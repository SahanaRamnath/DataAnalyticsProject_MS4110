{
 "cells": [
  {
   "cell_type": "code",
   "execution_count": 191,
   "metadata": {
    "ExecuteTime": {
     "end_time": "2018-11-11T10:54:12.987509Z",
     "start_time": "2018-11-11T10:54:12.940212Z"
    }
   },
   "outputs": [],
   "source": [
    "import numpy as np\n",
    "import pandas as pd\n",
    "import matplotlib.pyplot as plt\n",
    "import scipy.sparse\n",
    "from sklearn.decomposition import TruncatedSVD\n",
    "from sklearn.linear_model import LogisticRegression\n",
    "from sklearn.discriminant_analysis import LinearDiscriminantAnalysis\n",
    "from sklearn.model_selection import train_test_split\n",
    "from sklearn.decomposition import PCA\n",
    "from sklearn.ensemble import AdaBoostClassifier\n",
    "from sklearn.neural_network import MLPClassifier\n",
    "from sklearn.gaussian_process import GaussianProcessClassifier\n",
    "from sklearn.gaussian_process.kernels import RBF\n",
    "from sklearn.ensemble import BaggingClassifier\n",
    "from sklearn.neighbors import KNeighborsClassifier\n",
    "from numpy.linalg import svd\n",
    "%matplotlib inline "
   ]
  },
  {
   "cell_type": "code",
   "execution_count": 2,
   "metadata": {
    "ExecuteTime": {
     "end_time": "2018-11-10T15:43:32.359308Z",
     "start_time": "2018-11-10T15:41:32.447190Z"
    }
   },
   "outputs": [
    {
     "name": "stderr",
     "output_type": "stream",
     "text": [
      "/Users/vaibhavnayel/anaconda/lib/python2.7/site-packages/dateutil/parser/_parser.py:1204: UnknownTimezoneWarning: tzname CET identified but not understood.  Pass `tzinfos` argument in order to correctly return a timezone-aware datetime.  In a future version, this will raise an exception.\n",
      "  category=UnknownTimezoneWarning)\n",
      "/Users/vaibhavnayel/anaconda/lib/python2.7/site-packages/dateutil/parser/_parser.py:1204: UnknownTimezoneWarning: tzname CEST identified but not understood.  Pass `tzinfos` argument in order to correctly return a timezone-aware datetime.  In a future version, this will raise an exception.\n",
      "  category=UnknownTimezoneWarning)\n"
     ]
    }
   ],
   "source": [
    "#load data\n",
    "mapping=pd.read_csv('comments_employee_mapping.csv').dropna()\n",
    "likes=pd.read_csv('comments_likeability.csv').dropna()\n",
    "attr=pd.read_csv('employee_attrition.csv').dropna()\n",
    "hap=pd.read_csv('happiness_level.csv').dropna()\n",
    "\n",
    "#read dates as pandas date-type\n",
    "attr['lastParticipationDate']=pd.to_datetime(attr['lastParticipationDate'],infer_datetime_format=True)\n",
    "mapping['commentDate']=pd.to_datetime(mapping['commentDate'],infer_datetime_format=True)\n",
    "hap['voteDate']=pd.to_datetime(hap['voteDate'],infer_datetime_format=True)\n",
    "\n",
    "#merge employee number and company alias into id\n",
    "for d in [mapping,likes,attr,hap]:\n",
    "    d['id']=d['employee'].map(str)+d['companyAlias']\n",
    "\n",
    "#linearize dates\n",
    "attr['ordinal']=[x.toordinal() for x in attr['lastParticipationDate']]\n",
    "mapping['ordinal']=[x.toordinal() for x in mapping['commentDate']]\n",
    "hap['ordinal']=[x.toordinal() for x in hap['voteDate']]"
   ]
  },
  {
   "cell_type": "code",
   "execution_count": 122,
   "metadata": {
    "ExecuteTime": {
     "end_time": "2018-11-10T19:56:29.301743Z",
     "start_time": "2018-11-10T19:56:14.045669Z"
    }
   },
   "outputs": [],
   "source": [
    "l=np.array(np.load('likes_matrix_sparse_arranged.npy')[0].todense())\n",
    "#l=l[:,(l!=0).sum(0)>2]\n",
    "c=np.array(np.load('comment_matrix_sparse_arranged.npy')[0].todense())\n",
    "h=np.load('HappinessFeature.npy').tolist()\n",
    "h=np.array([h[e] for e in attr.id])\n",
    "\n",
    "g=np.load('comment_goodness_scores.npy').tolist()\n",
    "l_w=np.array(np.load('likes_matrix_sparse_arranged.npy')[0].todense())\n",
    "com_dict=np.load('likes_matrix_sparse_arranged.npy')[1]\n",
    "for k in g:\n",
    "    try:l_w[:,com_dict[g]]*=g[k]\n",
    "    except:pass\n",
    "l_w=l_w/((l!=0).sum(1) +1 )[:,np.newaxis]\n",
    "l_w=l_w[:,(l!=0).sum(0)>5]\n"
   ]
  },
  {
   "cell_type": "code",
   "execution_count": 171,
   "metadata": {
    "ExecuteTime": {
     "end_time": "2018-11-11T10:28:34.028136Z",
     "start_time": "2018-11-11T10:28:28.880079Z"
    }
   },
   "outputs": [],
   "source": [
    "#data=np.hstack([l,c,pd.get_dummies(attr.companyAlias),(h)[:,np.newaxis],attr.numVotes[:,np.newaxis]])\n",
    "data=np.hstack([l_w,pd.get_dummies(attr.companyAlias),((attr.ordinal-attr.ordinal.mean())/attr.ordinal.std())[:,np.newaxis],(h/(attr.numVotes+1))[:,np.newaxis],attr.numVotes[:,np.newaxis]])\n",
    "\n",
    "X_train, X_test, y_train, y_test = train_test_split(\n",
    "    data,attr.stillExists,stratify=attr.stillExists, test_size=0.33, random_state=42)\n"
   ]
  },
  {
   "cell_type": "code",
   "execution_count": 140,
   "metadata": {
    "ExecuteTime": {
     "end_time": "2018-11-10T20:05:33.042112Z",
     "start_time": "2018-11-10T20:05:04.947293Z"
    }
   },
   "outputs": [],
   "source": [
    "pca = PCA(n_components=1000)\n",
    "X_train=pca.fit_transform(X_train)\n",
    "X_test=pca.transform(X_test)"
   ]
  },
  {
   "cell_type": "code",
   "execution_count": 102,
   "metadata": {
    "ExecuteTime": {
     "end_time": "2018-11-10T18:25:31.802215Z",
     "start_time": "2018-11-10T18:25:27.376395Z"
    }
   },
   "outputs": [],
   "source": [
    "svd = TruncatedSVD(n_components=100)\n",
    "svd.fit(X_train)\n",
    "X_train = svd.transform(X_train)\n",
    "X_test=svd.transform(X_test)\n"
   ]
  },
  {
   "cell_type": "code",
   "execution_count": 26,
   "metadata": {
    "ExecuteTime": {
     "end_time": "2018-11-10T16:29:01.897579Z",
     "start_time": "2018-11-10T16:29:00.603220Z"
    }
   },
   "outputs": [
    {
     "data": {
      "text/plain": [
       "(array([4.131e+03, 3.881e+03, 3.388e+03, 3.070e+03, 2.604e+03, 2.328e+03,\n",
       "        2.105e+03, 1.758e+03, 1.569e+03, 1.356e+03, 1.184e+03, 1.007e+03,\n",
       "        9.370e+02, 8.420e+02, 7.440e+02, 6.270e+02, 6.180e+02, 5.500e+02,\n",
       "        4.820e+02, 4.290e+02, 4.190e+02, 3.180e+02, 3.140e+02, 2.820e+02,\n",
       "        2.430e+02, 2.090e+02, 2.370e+02, 1.740e+02, 1.670e+02, 1.220e+02,\n",
       "        1.250e+02, 1.210e+02, 9.600e+01, 9.200e+01, 8.100e+01, 7.200e+01,\n",
       "        6.200e+01, 5.100e+01, 4.400e+01, 3.600e+01, 4.100e+01, 3.300e+01,\n",
       "        2.100e+01, 1.700e+01, 1.900e+01, 2.400e+01, 1.300e+01, 1.600e+01,\n",
       "        1.600e+01, 1.300e+01, 1.200e+01, 1.100e+01, 6.000e+00, 9.000e+00,\n",
       "        1.000e+01, 1.000e+00, 5.000e+00, 5.000e+00, 2.000e+00, 5.000e+00,\n",
       "        3.000e+00, 0.000e+00, 3.000e+00, 5.000e+00, 3.000e+00, 0.000e+00,\n",
       "        1.000e+00, 0.000e+00, 1.000e+00, 1.000e+00, 0.000e+00, 0.000e+00,\n",
       "        4.000e+00, 0.000e+00, 2.000e+00, 0.000e+00, 0.000e+00, 0.000e+00,\n",
       "        0.000e+00, 0.000e+00, 0.000e+00, 0.000e+00, 0.000e+00, 0.000e+00,\n",
       "        1.000e+00]),\n",
       " array([ 1.,  2.,  3.,  4.,  5.,  6.,  7.,  8.,  9., 10., 11., 12., 13.,\n",
       "        14., 15., 16., 17., 18., 19., 20., 21., 22., 23., 24., 25., 26.,\n",
       "        27., 28., 29., 30., 31., 32., 33., 34., 35., 36., 37., 38., 39.,\n",
       "        40., 41., 42., 43., 44., 45., 46., 47., 48., 49., 50., 51., 52.,\n",
       "        53., 54., 55., 56., 57., 58., 59., 60., 61., 62., 63., 64., 65.,\n",
       "        66., 67., 68., 69., 70., 71., 72., 73., 74., 75., 76., 77., 78.,\n",
       "        79., 80., 81., 82., 83., 84., 85., 86.]),\n",
       " <a list of 85 Patch objects>)"
      ]
     },
     "execution_count": 26,
     "metadata": {},
     "output_type": "execute_result"
    },
    {
     "data": {
      "image/png": "[encoded data removed]",
      "text/plain": [
       "<matplotlib.figure.Figure at 0x1a28d1b990>"
      ]
     },
     "metadata": {
      "needs_background": "light"
     },
     "output_type": "display_data"
    }
   ],
   "source": [
    "plt.hist((l!=0).sum(0),bins=(l!=0).sum(0).max()-1)"
   ]
  },
  {
   "cell_type": "code",
   "execution_count": 196,
   "metadata": {
    "ExecuteTime": {
     "end_time": "2018-11-11T11:15:38.923617Z",
     "start_time": "2018-11-11T11:15:23.278989Z"
    }
   },
   "outputs": [
    {
     "name": "stdout",
     "output_type": "stream",
     "text": [
      "0.8930041152263375\n"
     ]
    },
    {
     "data": {
      "image/png": "[encoded data removed]",
      "text/plain": [
       "<matplotlib.figure.Figure at 0x1a6b059510>"
      ]
     },
     "metadata": {
      "needs_background": "light"
     },
     "output_type": "display_data"
    }
   ],
   "source": [
    "tr,te=[],[]\n",
    "x=np.logspace(-2,5,20)\n",
    "for c in x:\n",
    "    clf=LogisticRegression(C=c,penalty='l2')\n",
    "    clf.fit(X_train,y_train)\n",
    "    tr.append(clf.score(X_train,y_train))\n",
    "    te.append(clf.score(X_test,y_test))\n",
    "plt.plot(x,tr,label='train')\n",
    "plt.plot(x,te,label='test')\n",
    "plt.xscale('log')\n",
    "plt.legend()\n",
    "print max(te)"
   ]
  },
  {
   "cell_type": "code",
   "execution_count": 72,
   "metadata": {
    "ExecuteTime": {
     "end_time": "2018-11-10T13:59:07.110122Z",
     "start_time": "2018-11-10T13:58:28.207317Z"
    }
   },
   "outputs": [
    {
     "data": {
      "text/plain": [
       "<matplotlib.legend.Legend at 0x1a738faf90>"
      ]
     },
     "execution_count": 72,
     "metadata": {},
     "output_type": "execute_result"
    },
    {
     "data": {
      "image/png": "[encoded data removed]",
      "text/plain": [
       "<matplotlib.figure.Figure at 0x1a24274310>"
      ]
     },
     "metadata": {
      "needs_background": "light"
     },
     "output_type": "display_data"
    }
   ],
   "source": [
    "tr,te=[],[]\n",
    "x=np.logspace(-2,5,20)\n",
    "for c in x:\n",
    "    clf=LogisticRegression(C=c,penalty='l1')\n",
    "    clf.fit(X_train,y_train)\n",
    "    tr.append(clf.score(X_train,y_train))\n",
    "    te.append(clf.score(X_test,y_test))\n",
    "plt.plot(x,tr,label='train')\n",
    "plt.plot(x,te,label='test')\n",
    "plt.xscale('log')\n",
    "plt.legend()"
   ]
  },
  {
   "cell_type": "code",
   "execution_count": 74,
   "metadata": {
    "ExecuteTime": {
     "end_time": "2018-11-10T14:02:46.580123Z",
     "start_time": "2018-11-10T14:01:20.988028Z"
    }
   },
   "outputs": [],
   "source": [
    "pca = PCA(n_components=50)\n",
    "X_train=pca.fit_transform(X_train)\n",
    "X_test=pca.transform(X_test)"
   ]
  },
  {
   "cell_type": "code",
   "execution_count": 77,
   "metadata": {
    "ExecuteTime": {
     "end_time": "2018-11-10T14:24:59.976533Z",
     "start_time": "2018-11-10T14:24:44.313571Z"
    }
   },
   "outputs": [
    {
     "data": {
      "text/plain": [
       "<matplotlib.legend.Legend at 0x1a73ccd3d0>"
      ]
     },
     "execution_count": 77,
     "metadata": {},
     "output_type": "execute_result"
    },
    {
     "data": {
      "image/png": "[encoded data removed]",
      "text/plain": [
       "<matplotlib.figure.Figure at 0x1a73847410>"
      ]
     },
     "metadata": {
      "needs_background": "light"
     },
     "output_type": "display_data"
    }
   ],
   "source": [
    "tr,te=[],[]\n",
    "x=np.logspace(-2,5,10)\n",
    "for c in x:\n",
    "    clf=LogisticRegression(C=c)\n",
    "    clf.fit(X_train,y_train)\n",
    "    tr.append(clf.score(X_train,y_train))\n",
    "    te.append(clf.score(X_test,y_test))\n",
    "plt.plot(x,tr,label='train')\n",
    "plt.plot(x,te,label='test')\n",
    "plt.xscale('log')\n",
    "plt.legend()"
   ]
  },
  {
   "cell_type": "code",
   "execution_count": 195,
   "metadata": {
    "ExecuteTime": {
     "end_time": "2018-11-11T11:15:02.445111Z",
     "start_time": "2018-11-11T11:10:34.970857Z"
    }
   },
   "outputs": [
    {
     "ename": "ValueError",
     "evalue": "Found input variables with inconsistent numbers of samples: [2, 4418]",
     "output_type": "error",
     "traceback": [
      "\u001b[0;31m---------------------------------------------------------------------------\u001b[0m",
      "\u001b[0;31mValueError\u001b[0m                                Traceback (most recent call last)",
      "\u001b[0;32m<ipython-input-195-2a478ba800ff>\u001b[0m in \u001b[0;36m<module>\u001b[0;34m()\u001b[0m\n\u001b[1;32m      7\u001b[0m \u001b[0;34m\u001b[0m\u001b[0m\n\u001b[1;32m      8\u001b[0m X_train, X_test, y_train, y_test = train_test_split(\n\u001b[0;32m----> 9\u001b[0;31m     data,attr.stillExists,stratify=attr.stillExists, test_size=0.33, random_state=42)\n\u001b[0m",
      "\u001b[0;32m/Users/vaibhavnayel/anaconda/lib/python2.7/site-packages/sklearn/model_selection/_split.pyc\u001b[0m in \u001b[0;36mtrain_test_split\u001b[0;34m(*arrays, **options)\u001b[0m\n\u001b[1;32m   2072\u001b[0m         \u001b[0mtest_size\u001b[0m \u001b[0;34m=\u001b[0m \u001b[0;36m0.25\u001b[0m\u001b[0;34m\u001b[0m\u001b[0m\n\u001b[1;32m   2073\u001b[0m \u001b[0;34m\u001b[0m\u001b[0m\n\u001b[0;32m-> 2074\u001b[0;31m     \u001b[0marrays\u001b[0m \u001b[0;34m=\u001b[0m \u001b[0mindexable\u001b[0m\u001b[0;34m(\u001b[0m\u001b[0;34m*\u001b[0m\u001b[0marrays\u001b[0m\u001b[0;34m)\u001b[0m\u001b[0;34m\u001b[0m\u001b[0m\n\u001b[0m\u001b[1;32m   2075\u001b[0m \u001b[0;34m\u001b[0m\u001b[0m\n\u001b[1;32m   2076\u001b[0m     \u001b[0;32mif\u001b[0m \u001b[0mshuffle\u001b[0m \u001b[0;32mis\u001b[0m \u001b[0mFalse\u001b[0m\u001b[0;34m:\u001b[0m\u001b[0;34m\u001b[0m\u001b[0m\n",
      "\u001b[0;32m/Users/vaibhavnayel/anaconda/lib/python2.7/site-packages/sklearn/utils/validation.pyc\u001b[0m in \u001b[0;36mindexable\u001b[0;34m(*iterables)\u001b[0m\n\u001b[1;32m    253\u001b[0m         \u001b[0;32melse\u001b[0m\u001b[0;34m:\u001b[0m\u001b[0;34m\u001b[0m\u001b[0m\n\u001b[1;32m    254\u001b[0m             \u001b[0mresult\u001b[0m\u001b[0;34m.\u001b[0m\u001b[0mappend\u001b[0m\u001b[0;34m(\u001b[0m\u001b[0mnp\u001b[0m\u001b[0;34m.\u001b[0m\u001b[0marray\u001b[0m\u001b[0;34m(\u001b[0m\u001b[0mX\u001b[0m\u001b[0;34m)\u001b[0m\u001b[0;34m)\u001b[0m\u001b[0;34m\u001b[0m\u001b[0m\n\u001b[0;32m--> 255\u001b[0;31m     \u001b[0mcheck_consistent_length\u001b[0m\u001b[0;34m(\u001b[0m\u001b[0;34m*\u001b[0m\u001b[0mresult\u001b[0m\u001b[0;34m)\u001b[0m\u001b[0;34m\u001b[0m\u001b[0m\n\u001b[0m\u001b[1;32m    256\u001b[0m     \u001b[0;32mreturn\u001b[0m \u001b[0mresult\u001b[0m\u001b[0;34m\u001b[0m\u001b[0m\n\u001b[1;32m    257\u001b[0m \u001b[0;34m\u001b[0m\u001b[0m\n",
      "\u001b[0;32m/Users/vaibhavnayel/anaconda/lib/python2.7/site-packages/sklearn/utils/validation.pyc\u001b[0m in \u001b[0;36mcheck_consistent_length\u001b[0;34m(*arrays)\u001b[0m\n\u001b[1;32m    228\u001b[0m     \u001b[0;32mif\u001b[0m \u001b[0mlen\u001b[0m\u001b[0;34m(\u001b[0m\u001b[0muniques\u001b[0m\u001b[0;34m)\u001b[0m \u001b[0;34m>\u001b[0m \u001b[0;36m1\u001b[0m\u001b[0;34m:\u001b[0m\u001b[0;34m\u001b[0m\u001b[0m\n\u001b[1;32m    229\u001b[0m         raise ValueError(\"Found input variables with inconsistent numbers of\"\n\u001b[0;32m--> 230\u001b[0;31m                          \" samples: %r\" % [int(l) for l in lengths])\n\u001b[0m\u001b[1;32m    231\u001b[0m \u001b[0;34m\u001b[0m\u001b[0m\n\u001b[1;32m    232\u001b[0m \u001b[0;34m\u001b[0m\u001b[0m\n",
      "\u001b[0;31mValueError\u001b[0m: Found input variables with inconsistent numbers of samples: [2, 4418]"
     ]
    }
   ],
   "source": [
    "l=np.load('likes_matrix_sparse_arranged.npy')[0].todense()\n",
    "c=np.load('comment_matrix_sparse_arranged.npy')[0].todense()\n",
    "h=np.load('HappinessFeature.npy').tolist()\n",
    "h=np.array([h[e] for e in attr.id])\n",
    "\n",
    "data=compress_svd(np.hstack([l,c,pd.get_dummies(attr.companyAlias),(h)[:,np.newaxis],attr.numVotes[:,np.newaxis]]),10)\n",
    "\n",
    "X_train, X_test, y_train, y_test = train_test_split(\n",
    "    data,attr.stillExists,stratify=attr.stillExists, test_size=0.33, random_state=42)"
   ]
  },
  {
   "cell_type": "code",
   "execution_count": null,
   "metadata": {
    "ExecuteTime": {
     "start_time": "2018-11-10T15:26:26.788Z"
    }
   },
   "outputs": [],
   "source": [
    "clf = LinearDiscriminantAnalysis()\n",
    "clf.fit(X_train,y_train)\n",
    "clf.score(X_train,y_train)\n",
    "clf.score(X_test,y_test)"
   ]
  },
  {
   "cell_type": "code",
   "execution_count": 75,
   "metadata": {
    "ExecuteTime": {
     "end_time": "2018-11-10T17:16:14.538247Z",
     "start_time": "2018-11-10T17:16:09.667504Z"
    }
   },
   "outputs": [],
   "source": [
    "g=np.load('comment_goodness_scores.npy').tolist()\n",
    "l_w=np.array(np.load('likes_matrix_sparse_arranged.npy')[0].todense())\n",
    "com_dict=np.load('likes_matrix_sparse_arranged.npy')[1]\n",
    "for k in g:\n",
    "    try:l_w[:,com_dict[g]]*=g[k]\n",
    "    except:pass\n",
    "l_w=l_w/((l!=0).sum(1) +1 )[:,np.newaxis]"
   ]
  },
  {
   "cell_type": "code",
   "execution_count": 118,
   "metadata": {
    "ExecuteTime": {
     "end_time": "2018-11-10T18:38:10.949243Z",
     "start_time": "2018-11-10T18:38:10.901884Z"
    }
   },
   "outputs": [
    {
     "data": {
      "text/plain": [
       "array([7.39764729e+01, 2.57460904e+01, 3.44633199e-01, 2.82769546e-01,\n",
       "       2.72409737e-01, 2.54435121e-01, 2.34074073e-01, 2.30195378e-01,\n",
       "       2.26310527e-01, 2.13508846e-01, 1.95786163e-01, 1.93798722e-01,\n",
       "       1.90001204e-01, 1.83095032e-01, 1.78432662e-01, 1.73818300e-01,\n",
       "       1.46690810e-01, 1.37581467e-01, 1.28780000e-01, 1.23736079e-01,\n",
       "       1.19499945e-01, 1.11068112e-01, 1.06102864e-01, 1.03955672e-01,\n",
       "       8.73239045e-02, 8.17248212e-02, 7.88541740e-02, 7.64413534e-02,\n",
       "       7.40814119e-02, 6.95017217e-02, 6.19523128e-02, 5.68488771e-02,\n",
       "       5.51405869e-02, 5.32303452e-02, 5.21958105e-02, 5.19872080e-02,\n",
       "       4.54242856e-02, 2.63171576e-02, 1.80925060e-02, 1.59008850e-02,\n",
       "       1.45580628e-02, 1.34694462e-02, 1.31611667e-02, 1.31259704e-02,\n",
       "       1.31229589e-02, 1.29880356e-02, 1.24183357e-02, 1.17900008e-02,\n",
       "       1.13727214e-02, 1.10751471e-02, 1.09166731e-02, 1.08859038e-02,\n",
       "       1.07971263e-02, 1.07108205e-02, 1.06678175e-02, 1.03918995e-02,\n",
       "       1.03375326e-02, 1.03285209e-02, 1.02912920e-02, 9.91020639e-03,\n",
       "       9.83933094e-03, 9.81806995e-03, 9.79836694e-03, 9.71394689e-03,\n",
       "       9.63149066e-03, 9.62695462e-03, 9.61194492e-03, 9.61049750e-03,\n",
       "       9.54464671e-03, 9.54353746e-03, 9.54149294e-03, 9.50841558e-03,\n",
       "       9.50447252e-03, 9.41756673e-03, 9.37364758e-03, 9.36329626e-03,\n",
       "       9.34817144e-03, 9.31954624e-03, 9.31140751e-03, 9.30908521e-03,\n",
       "       9.30019073e-03, 9.29415616e-03, 9.29261176e-03, 9.27848778e-03,\n",
       "       9.27052562e-03, 9.26284304e-03, 9.25968608e-03, 9.25051246e-03,\n",
       "       9.24648302e-03, 9.24549812e-03, 9.24209838e-03, 9.24165416e-03,\n",
       "       9.24013020e-03, 9.23872642e-03, 9.22301943e-03, 9.21804779e-03,\n",
       "       9.21443017e-03, 9.21430515e-03, 9.21160361e-03, 9.21125959e-03,\n",
       "       9.21063689e-03, 9.21018786e-03, 9.20911994e-03, 9.20762415e-03,\n",
       "       9.20751760e-03, 9.20702907e-03, 9.20492521e-03, 9.20107020e-03,\n",
       "       9.19843453e-03, 9.19540672e-03, 9.19405282e-03, 9.19341225e-03,\n",
       "       9.19240683e-03, 9.19236208e-03, 9.19220257e-03, 9.19183315e-03,\n",
       "       9.19167973e-03, 9.19152469e-03, 9.19141847e-03, 9.19094101e-03,\n",
       "       9.19064113e-03, 9.19045186e-03, 9.19040014e-03, 9.18787625e-03,\n",
       "       9.18365481e-03, 9.18214449e-03, 9.16725675e-03, 9.16374370e-03,\n",
       "       9.15924935e-03, 9.14395937e-03, 9.14126982e-03, 9.11641138e-03,\n",
       "       9.10159542e-03, 9.08498763e-03, 9.05780101e-03, 9.04235776e-03,\n",
       "       9.03882014e-03, 9.03401356e-03, 9.01688034e-03, 8.99607414e-03,\n",
       "       8.98684593e-03, 8.98072696e-03, 8.96634838e-03, 8.94952512e-03,\n",
       "       8.93102225e-03, 8.92014883e-03, 8.84749105e-03, 8.82530474e-03,\n",
       "       8.82444459e-03, 8.80422170e-03, 8.76008753e-03, 8.74477895e-03,\n",
       "       8.73588735e-03, 8.73371468e-03, 8.73189930e-03, 8.72427613e-03,\n",
       "       8.72372160e-03, 8.71515830e-03, 8.71471777e-03, 8.70386998e-03,\n",
       "       8.69365721e-03, 8.68610760e-03, 8.67655872e-03, 8.67390768e-03,\n",
       "       8.67241129e-03, 8.67207204e-03, 8.67112554e-03, 8.66056961e-03,\n",
       "       8.65346312e-03, 8.64192882e-03, 8.63693862e-03, 8.63077412e-03,\n",
       "       8.61131780e-03, 8.60602007e-03, 8.60564679e-03, 8.60459545e-03,\n",
       "       8.60356975e-03, 8.60092324e-03, 8.59962041e-03, 8.56083301e-03,\n",
       "       8.54639558e-03, 8.49527995e-03, 8.48328962e-03, 8.47175311e-03,\n",
       "       8.45547505e-03, 8.43558160e-03, 8.39802382e-03, 8.38114489e-03,\n",
       "       8.37833381e-03, 8.34058295e-03, 8.26332684e-03, 8.23988827e-03,\n",
       "       8.20716252e-03, 8.18086890e-03, 8.12808802e-03, 8.11777729e-03,\n",
       "       8.09660689e-03, 8.07505695e-03, 8.02690361e-03, 8.01840436e-03,\n",
       "       8.01639474e-03, 8.00548269e-03, 7.99799281e-03, 7.99534990e-03,\n",
       "       7.98351376e-03, 7.97579408e-03, 7.97321425e-03, 7.96857708e-03,\n",
       "       7.96771339e-03, 7.96425554e-03, 7.96180115e-03, 7.95446504e-03,\n",
       "       7.94273423e-03, 7.94042729e-03, 7.93347626e-03, 7.92881879e-03,\n",
       "       7.91880798e-03, 7.91466359e-03, 7.90290636e-03, 7.86603075e-03,\n",
       "       7.82716013e-03, 7.79663279e-03, 7.78683422e-03, 7.75669534e-03,\n",
       "       7.74332026e-03, 7.66109462e-03, 7.62001079e-03, 7.59280374e-03,\n",
       "       7.54746675e-03, 7.48005338e-03, 7.47522563e-03, 7.46657665e-03,\n",
       "       7.42542839e-03, 7.40878283e-03, 7.40485792e-03, 7.39871369e-03,\n",
       "       7.38508931e-03, 7.37867828e-03, 7.36713552e-03, 7.36140765e-03,\n",
       "       7.35333400e-03, 7.31453168e-03, 7.25327973e-03, 7.23981088e-03,\n",
       "       7.23666598e-03, 7.22011892e-03, 7.17778221e-03, 7.15453270e-03,\n",
       "       7.10840461e-03, 7.10795204e-03, 7.09951499e-03, 7.09430507e-03,\n",
       "       7.02806790e-03, 7.02169094e-03, 7.01419400e-03, 6.94283338e-03,\n",
       "       6.93701638e-03, 6.92974313e-03, 6.91885544e-03, 6.91204591e-03,\n",
       "       6.89189701e-03, 6.87700110e-03, 6.87052059e-03, 6.86812920e-03,\n",
       "       6.86492492e-03, 6.86119436e-03, 6.85479057e-03, 6.84778710e-03,\n",
       "       6.79902831e-03, 6.79215445e-03, 6.78099904e-03, 6.75794934e-03,\n",
       "       6.74148767e-03, 6.71185826e-03, 6.67483272e-03, 6.66931934e-03,\n",
       "       6.65070436e-03, 6.61180289e-03, 6.59549963e-03, 6.59151508e-03,\n",
       "       6.56566073e-03, 6.52352132e-03, 6.51949054e-03, 6.51815708e-03,\n",
       "       6.51720529e-03, 6.51326317e-03, 6.51277420e-03, 6.49899533e-03,\n",
       "       6.48409144e-03, 6.47867124e-03, 6.47519033e-03, 6.46722642e-03,\n",
       "       6.45862157e-03, 6.45115495e-03, 6.43943253e-03, 6.43782051e-03,\n",
       "       6.43234542e-03, 6.42633473e-03, 6.40013328e-03, 6.39819537e-03,\n",
       "       6.39307649e-03, 6.38323503e-03, 6.37442506e-03, 6.36362469e-03,\n",
       "       6.32439131e-03, 6.32257335e-03, 6.31615623e-03, 6.31040705e-03,\n",
       "       6.30108428e-03, 6.28963572e-03, 6.28340670e-03, 6.28141309e-03,\n",
       "       6.27652123e-03, 6.24152626e-03, 6.23495732e-03, 6.22389715e-03,\n",
       "       6.22336168e-03, 6.21685431e-03, 6.21290654e-03, 6.21087057e-03,\n",
       "       6.20884462e-03, 6.19995252e-03, 6.18821389e-03, 6.17724139e-03,\n",
       "       6.16575670e-03, 6.16346553e-03, 6.15925701e-03, 6.15622593e-03,\n",
       "       6.14230800e-03, 6.14131462e-03, 6.12347656e-03, 6.12204312e-03,\n",
       "       6.11857181e-03, 6.11626873e-03, 6.11489863e-03, 6.11193221e-03,\n",
       "       6.10084479e-03, 6.09596776e-03, 6.07590873e-03, 6.07344351e-03,\n",
       "       6.07070985e-03, 6.06778031e-03, 6.06665262e-03, 6.06397959e-03,\n",
       "       6.06217453e-03, 6.06011654e-03, 6.05689784e-03, 6.03576427e-03,\n",
       "       6.03018911e-03, 6.01992809e-03, 6.01173497e-03, 5.99484211e-03,\n",
       "       5.97379147e-03, 5.95663717e-03, 5.95610013e-03, 5.94671617e-03,\n",
       "       5.94325117e-03, 5.91680826e-03, 5.91103619e-03, 5.90467396e-03,\n",
       "       5.90236808e-03, 5.89356531e-03, 5.89028635e-03, 5.88579277e-03,\n",
       "       5.87140510e-03, 5.85805306e-03, 5.83711440e-03, 5.83529316e-03,\n",
       "       5.81499770e-03, 5.80509594e-03, 5.80224629e-03, 5.78189332e-03,\n",
       "       5.77191081e-03, 5.77071227e-03, 5.75356329e-03, 5.73743326e-03,\n",
       "       5.72611627e-03, 5.72355790e-03, 5.72146232e-03, 5.70576782e-03,\n",
       "       5.68759210e-03, 5.68646356e-03, 5.67018717e-03, 5.66653064e-03,\n",
       "       5.64675057e-03, 5.63152103e-03, 5.62701045e-03, 5.62597625e-03,\n",
       "       5.61604603e-03, 5.61524397e-03, 5.61423067e-03, 5.61153062e-03,\n",
       "       5.60955470e-03, 5.59037774e-03, 5.58531973e-03, 5.57957916e-03,\n",
       "       5.56940350e-03, 5.56715957e-03, 5.55493397e-03, 5.53705182e-03,\n",
       "       5.53562712e-03, 5.50826478e-03, 5.49724572e-03, 5.49024681e-03,\n",
       "       5.47707142e-03, 5.46991127e-03, 5.46895282e-03, 5.44641706e-03,\n",
       "       5.44475351e-03, 5.43856053e-03, 5.42828982e-03, 5.42079746e-03,\n",
       "       5.41274283e-03, 5.40024557e-03, 5.39907207e-03, 5.39006422e-03,\n",
       "       5.38880210e-03, 5.38098150e-03, 5.37648934e-03, 5.36221423e-03,\n",
       "       5.35662104e-03, 5.35439462e-03, 5.34834848e-03, 5.34648790e-03,\n",
       "       5.32200806e-03, 5.32105937e-03, 5.31072463e-03, 5.30493386e-03,\n",
       "       5.29359779e-03, 5.27853979e-03, 5.26811160e-03, 5.26552585e-03,\n",
       "       5.26164442e-03, 5.25798790e-03, 5.23365801e-03, 5.22852221e-03,\n",
       "       5.21491409e-03, 5.20251404e-03, 5.18110952e-03, 5.16263905e-03,\n",
       "       5.16220773e-03, 5.15425643e-03, 5.14483882e-03, 5.14445115e-03,\n",
       "       5.14260521e-03, 5.13995605e-03, 5.12693380e-03, 5.11660514e-03,\n",
       "       5.11623373e-03, 5.11446352e-03, 5.11263746e-03, 5.10884581e-03,\n",
       "       5.10365002e-03, 5.09707450e-03, 5.09417264e-03, 5.08761854e-03,\n",
       "       5.08575611e-03, 5.04426991e-03, 5.04060841e-03, 5.03669590e-03,\n",
       "       5.03300866e-03, 5.02796063e-03, 5.02721615e-03, 5.00712347e-03,\n",
       "       5.00045613e-03, 4.99377514e-03, 4.99133857e-03, 4.98934329e-03,\n",
       "       4.98600847e-03, 4.98051054e-03, 4.95710439e-03, 4.95484555e-03,\n",
       "       4.95372620e-03, 4.93924989e-03, 4.93432277e-03, 4.93062819e-03,\n",
       "       4.91845425e-03, 4.89937572e-03, 4.88630952e-03, 4.88578021e-03,\n",
       "       4.87359535e-03, 4.87075490e-03, 4.85863094e-03, 4.85087726e-03,\n",
       "       4.84369129e-03, 4.84344535e-03, 4.83682083e-03, 4.83516743e-03,\n",
       "       4.80385594e-03, 4.79072097e-03, 4.78982559e-03, 4.77540375e-03,\n",
       "       4.77477087e-03, 4.77077087e-03, 4.76263628e-03, 4.76074667e-03,\n",
       "       4.74906996e-03, 4.74828541e-03, 4.74713188e-03, 4.73642927e-03,\n",
       "       4.73197296e-03, 4.73000908e-03, 4.72290308e-03, 4.71598923e-03,\n",
       "       4.71395641e-03, 4.71237627e-03, 4.70345524e-03, 4.69216585e-03,\n",
       "       4.68010275e-03, 4.67472792e-03, 4.66987502e-03, 4.65844869e-03,\n",
       "       4.64845942e-03, 4.64381929e-03, 4.64111666e-03, 4.63039807e-03,\n",
       "       4.62723643e-03, 4.62658923e-03, 4.61757945e-03, 4.61598697e-03,\n",
       "       4.60841806e-03, 4.60669951e-03, 4.59378795e-03, 4.58602399e-03,\n",
       "       4.58432364e-03, 4.57904806e-03, 4.56820146e-03, 4.56258842e-03,\n",
       "       4.55364583e-03, 4.54692915e-03, 4.54335210e-03, 4.54161351e-03,\n",
       "       4.53274529e-03, 4.51353147e-03, 4.51113693e-03, 4.50772945e-03,\n",
       "       4.50662979e-03, 4.50340449e-03, 4.49722443e-03, 4.48457812e-03,\n",
       "       4.47360253e-03, 4.47280978e-03, 4.46695258e-03, 4.46214597e-03,\n",
       "       4.45055497e-03, 4.44123260e-03, 4.43861654e-03, 4.42992477e-03,\n",
       "       4.42874931e-03, 4.42120606e-03, 4.41925328e-03, 4.41498413e-03,\n",
       "       4.40009220e-03, 4.39440235e-03, 4.38405041e-03, 4.37586839e-03,\n",
       "       4.37311833e-03, 4.36315904e-03, 4.35908071e-03, 4.34273101e-03,\n",
       "       4.34161861e-03, 4.33885037e-03, 4.33318257e-03, 4.32649156e-03,\n",
       "       4.32153388e-03, 4.31493268e-03, 4.31236960e-03, 4.31185317e-03,\n",
       "       4.30330217e-03, 4.30205382e-03, 4.28903500e-03, 4.28518154e-03,\n",
       "       4.28399871e-03, 4.28202353e-03, 4.27904137e-03, 4.27154804e-03,\n",
       "       4.27065058e-03, 4.27043975e-03, 4.27021044e-03, 4.26804464e-03,\n",
       "       4.26360504e-03, 4.26198613e-03, 4.24941398e-03, 4.24461436e-03,\n",
       "       4.23446488e-03, 4.22782344e-03, 4.21689479e-03, 4.20839815e-03,\n",
       "       4.20250953e-03, 4.19708767e-03, 4.18954695e-03, 4.18806117e-03,\n",
       "       4.18294743e-03, 4.17908304e-03, 4.17859280e-03, 4.16395734e-03,\n",
       "       4.16120646e-03, 4.15807927e-03, 4.15567700e-03, 4.15533604e-03,\n",
       "       4.15203988e-03, 4.14670042e-03, 4.14446347e-03, 4.13397382e-03,\n",
       "       4.11585892e-03, 4.11433849e-03, 4.11072504e-03, 4.09424797e-03,\n",
       "       4.09222300e-03, 4.08515618e-03, 4.08117718e-03, 4.07837879e-03,\n",
       "       4.07703641e-03, 4.07231328e-03, 4.06391498e-03, 4.05975287e-03,\n",
       "       4.05251545e-03, 4.04877470e-03, 4.04171950e-03, 4.03847322e-03,\n",
       "       4.03204267e-03, 4.02124158e-03, 4.01954336e-03, 4.01444781e-03,\n",
       "       4.01003141e-03, 4.00549280e-03, 3.99953141e-03, 3.99865689e-03,\n",
       "       3.99797754e-03, 3.99191994e-03, 3.97467884e-03, 3.96958817e-03,\n",
       "       3.96602310e-03, 3.96008829e-03, 3.94737520e-03, 3.94421721e-03,\n",
       "       3.94327941e-03, 3.91992196e-03, 3.91841855e-03, 3.91131649e-03,\n",
       "       3.90751786e-03, 3.90560257e-03, 3.89911042e-03, 3.89739182e-03,\n",
       "       3.89441570e-03, 3.89099616e-03, 3.88759682e-03, 3.87795702e-03,\n",
       "       3.86947412e-03, 3.86484819e-03, 3.85967520e-03, 3.85119844e-03,\n",
       "       3.84801507e-03, 3.84768581e-03, 3.84477703e-03, 3.83803929e-03,\n",
       "       3.83431862e-03, 3.82609969e-03, 3.82081402e-03, 3.81695036e-03,\n",
       "       3.81115126e-03, 3.80624355e-03, 3.80602427e-03, 3.80066481e-03,\n",
       "       3.78524237e-03, 3.77869421e-03, 3.77627113e-03, 3.77146711e-03,\n",
       "       3.76722821e-03, 3.76456953e-03, 3.76438774e-03, 3.76322918e-03,\n",
       "       3.75893932e-03, 3.75770245e-03, 3.75567271e-03, 3.75414580e-03,\n",
       "       3.74291186e-03, 3.73579994e-03, 3.72902395e-03, 3.72436239e-03,\n",
       "       3.72052065e-03, 3.71623407e-03, 3.70671279e-03, 3.69941250e-03,\n",
       "       3.69902627e-03, 3.69750613e-03, 3.69506320e-03, 3.68192242e-03,\n",
       "       3.67925840e-03, 3.66410796e-03, 3.65948261e-03, 3.65786135e-03,\n",
       "       3.65633316e-03, 3.65450034e-03, 3.64329407e-03, 3.63319991e-03,\n",
       "       3.63184201e-03, 3.62904526e-03, 3.62751099e-03, 3.62506462e-03,\n",
       "       3.62345676e-03, 3.61153654e-03, 3.60741936e-03, 3.60292026e-03,\n",
       "       3.59193261e-03, 3.58686449e-03, 3.58028286e-03, 3.57368023e-03,\n",
       "       3.57271520e-03, 3.57155279e-03, 3.56733207e-03, 3.56566804e-03,\n",
       "       3.56456476e-03, 3.56340613e-03, 3.55883927e-03, 3.55303153e-03,\n",
       "       3.54475757e-03, 3.53781457e-03, 3.53324735e-03, 3.53244112e-03,\n",
       "       3.53153606e-03, 3.52859546e-03, 3.51955167e-03, 3.51575229e-03,\n",
       "       3.51480457e-03, 3.50953119e-03, 3.50841931e-03, 3.50386867e-03,\n",
       "       3.49904126e-03, 3.48405954e-03, 3.48291226e-03, 3.47828703e-03,\n",
       "       3.47482796e-03, 3.47338349e-03, 3.47128070e-03, 3.45801294e-03,\n",
       "       3.44798479e-03, 3.43684396e-03, 3.43051897e-03, 3.42969561e-03,\n",
       "       3.42749109e-03, 3.42121991e-03, 3.41615431e-03, 3.41534875e-03,\n",
       "       3.39946336e-03, 3.39833956e-03, 3.39689412e-03, 3.39476755e-03,\n",
       "       3.38767138e-03, 3.38717509e-03, 3.38260539e-03, 3.37603701e-03,\n",
       "       3.37538010e-03, 3.37127454e-03, 3.36775528e-03, 3.36390052e-03,\n",
       "       3.36277799e-03, 3.36054958e-03, 3.35261025e-03, 3.34964896e-03,\n",
       "       3.34487838e-03, 3.34016077e-03, 3.33883522e-03, 3.33520262e-03,\n",
       "       3.33208330e-03, 3.33006411e-03, 3.31444994e-03, 3.31099857e-03,\n",
       "       3.30909012e-03, 3.30591004e-03, 3.30268500e-03, 3.30220943e-03,\n",
       "       3.30127279e-03, 3.29337968e-03, 3.28991768e-03, 3.27549161e-03,\n",
       "       3.27155965e-03, 3.26863630e-03, 3.26475497e-03, 3.26171642e-03,\n",
       "       3.25459772e-03, 3.24711028e-03, 3.24448641e-03, 3.24174860e-03,\n",
       "       3.24009006e-03, 3.23903219e-03, 3.23383475e-03, 3.22924533e-03,\n",
       "       3.22793493e-03, 3.21537560e-03, 3.21126004e-03, 3.20607072e-03,\n",
       "       3.20402625e-03, 3.19842189e-03, 3.19773739e-03, 3.19468656e-03,\n",
       "       3.19347323e-03, 3.19155846e-03, 3.18949221e-03, 3.18202322e-03,\n",
       "       3.18093216e-03, 3.17966711e-03, 3.17421361e-03, 3.16837989e-03,\n",
       "       3.16764019e-03, 3.16620967e-03, 3.15189800e-03, 3.14162354e-03,\n",
       "       3.13719796e-03, 3.13577370e-03, 3.13385800e-03, 3.13327668e-03,\n",
       "       3.13025957e-03, 3.12889867e-03, 3.12570207e-03, 3.11742590e-03,\n",
       "       3.11633609e-03, 3.11050006e-03, 3.10000032e-03, 3.09962132e-03,\n",
       "       3.09676101e-03, 3.09180474e-03, 3.07906708e-03, 3.07721911e-03,\n",
       "       3.07520753e-03, 3.07182398e-03, 3.06992853e-03, 3.06431617e-03,\n",
       "       3.06351529e-03, 3.06138323e-03, 3.05982196e-03, 3.05471365e-03,\n",
       "       3.05186263e-03, 3.04843186e-03, 3.04015056e-03, 3.03739031e-03,\n",
       "       3.03489939e-03, 3.03345040e-03, 3.03129882e-03, 3.02549051e-03,\n",
       "       3.01508293e-03, 3.01384060e-03, 3.01165718e-03, 2.99891900e-03,\n",
       "       2.99520511e-03, 2.99090401e-03, 2.98644624e-03, 2.98283559e-03,\n",
       "       2.97911908e-03, 2.97561261e-03, 2.97295255e-03, 2.97241590e-03,\n",
       "       2.97066936e-03, 2.96615960e-03, 2.96348736e-03, 2.95399460e-03,\n",
       "       2.95076446e-03, 2.94967431e-03, 2.94361500e-03, 2.94138921e-03,\n",
       "       2.93902708e-03, 2.93741420e-03, 2.93157520e-03, 2.92724571e-03,\n",
       "       2.92270895e-03, 2.91517807e-03, 2.91134058e-03, 2.90502428e-03,\n",
       "       2.90281491e-03, 2.90008200e-03, 2.89398446e-03, 2.89180244e-03,\n",
       "       2.89026792e-03, 2.88579214e-03, 2.87868066e-03, 2.87164821e-03,\n",
       "       2.86920740e-03, 2.86324868e-03, 2.85610911e-03, 2.85268786e-03,\n",
       "       2.84607508e-03, 2.84385475e-03, 2.84305428e-03, 2.84211947e-03,\n",
       "       2.83604158e-03, 2.83221691e-03, 2.82744158e-03, 2.82492010e-03,\n",
       "       2.82371325e-03, 2.81698217e-03, 2.81560875e-03, 2.81068589e-03,\n",
       "       2.80903001e-03, 2.80562372e-03, 2.80102426e-03, 2.79887970e-03,\n",
       "       2.79290776e-03, 2.78883941e-03, 2.78323622e-03, 2.77992308e-03,\n",
       "       2.77504830e-03, 2.77162874e-03, 2.76998371e-03, 2.76173156e-03,\n",
       "       2.75852719e-03, 2.75328793e-03, 2.74871149e-03, 2.74708642e-03,\n",
       "       2.74516226e-03, 2.73676397e-03, 2.73413263e-03, 2.72994173e-03,\n",
       "       2.72667215e-03, 2.72524076e-03, 2.72024118e-03, 2.71838722e-03,\n",
       "       2.71450748e-03, 2.70695873e-03, 2.69913889e-03, 2.69700081e-03,\n",
       "       2.69016147e-03, 2.68772614e-03, 2.68620024e-03, 2.68151770e-03,\n",
       "       2.67705480e-03, 2.67375050e-03, 2.66972686e-03, 2.66530801e-03,\n",
       "       2.66376923e-03, 2.65451862e-03, 2.65321823e-03, 2.65062098e-03,\n",
       "       2.64218661e-03, 2.64020640e-03, 2.63793104e-03, 2.63183242e-03,\n",
       "       2.62949643e-03, 2.62640650e-03, 2.62106951e-03, 2.61501800e-03,\n",
       "       2.61145649e-03, 2.60438291e-03, 2.60209222e-03, 2.59848134e-03,\n",
       "       2.59725650e-03, 2.59532056e-03, 2.58289232e-03, 2.58216482e-03,\n",
       "       2.57815745e-03, 2.57549756e-03, 2.57379681e-03, 2.57085603e-03,\n",
       "       2.56757958e-03, 2.56155085e-03, 2.55741586e-03, 2.55273718e-03,\n",
       "       2.55027829e-03, 2.54648018e-03, 2.54445729e-03, 2.54236105e-03,\n",
       "       2.53847180e-03, 2.53376648e-03, 2.52956485e-03, 2.52221695e-03,\n",
       "       2.51418159e-03, 2.51292586e-03, 2.50809343e-03, 2.50415919e-03,\n",
       "       2.49955567e-03, 2.49717897e-03, 2.49657755e-03, 2.49176801e-03,\n",
       "       2.48677138e-03, 2.48141514e-03, 2.47611764e-03, 2.47348626e-03,\n",
       "       2.46482212e-03, 2.46362373e-03, 2.45817131e-03, 2.45504363e-03,\n",
       "       2.44866657e-03, 2.44162420e-03, 2.43951557e-03, 2.43489611e-03,\n",
       "       2.43305151e-03, 2.42785582e-03, 2.42359014e-03, 2.41900482e-03,\n",
       "       2.41503959e-03, 2.40393252e-03, 2.40224405e-03, 2.39974899e-03,\n",
       "       2.39840655e-03, 2.38542061e-03, 2.38064474e-03, 2.37258662e-03,\n",
       "       2.37166630e-03, 2.36385723e-03, 2.36074124e-03, 2.35100160e-03])"
      ]
     },
     "execution_count": 118,
     "metadata": {},
     "output_type": "execute_result"
    }
   ],
   "source": [
    "X_train.std(0)"
   ]
  },
  {
   "cell_type": "code",
   "execution_count": 197,
   "metadata": {
    "ExecuteTime": {
     "end_time": "2018-11-11T11:26:37.475711Z",
     "start_time": "2018-11-11T11:18:20.437955Z"
    }
   },
   "outputs": [
    {
     "name": "stdout",
     "output_type": "stream",
     "text": [
      "Iteration 1, loss = 0.50277325\n",
      "Iteration 2, loss = 0.40563973\n",
      "Iteration 3, loss = 0.36252779\n",
      "Iteration 4, loss = 0.31494494\n",
      "Iteration 5, loss = 0.27597724\n",
      "Iteration 6, loss = 0.26456439\n",
      "Iteration 7, loss = 0.23578563\n",
      "Iteration 8, loss = 0.26254227\n",
      "Iteration 9, loss = 0.21377438\n",
      "Iteration 10, loss = 0.23782551\n",
      "Iteration 11, loss = 0.22577320\n",
      "Iteration 12, loss = 0.19487567\n",
      "Iteration 13, loss = 0.18172554\n",
      "Iteration 14, loss = 0.17593798\n",
      "Iteration 15, loss = 0.18077391\n",
      "Iteration 16, loss = 0.16555288\n",
      "Iteration 17, loss = 0.15598444\n",
      "Iteration 18, loss = 0.15241922\n",
      "Iteration 19, loss = 0.15622505\n",
      "Iteration 20, loss = 0.14929748\n",
      "Iteration 21, loss = 0.17380697\n",
      "Iteration 22, loss = 0.17918995\n",
      "Iteration 23, loss = 0.16851319\n",
      "Iteration 24, loss = 0.13731398\n",
      "Iteration 25, loss = 0.13244534\n",
      "Iteration 26, loss = 0.12899839\n",
      "Iteration 27, loss = 0.12326185\n",
      "Iteration 28, loss = 0.13385751\n",
      "Iteration 29, loss = 0.15931734\n",
      "Iteration 30, loss = 0.14327916\n",
      "Iteration 31, loss = 0.12414516\n",
      "Iteration 32, loss = 0.13014370\n",
      "Iteration 33, loss = 0.13785125\n",
      "Iteration 34, loss = 0.11663870\n",
      "Iteration 35, loss = 0.11882512\n",
      "Iteration 36, loss = 0.12131744\n",
      "Iteration 37, loss = 0.18654834\n",
      "Iteration 38, loss = 0.13680708\n",
      "Iteration 39, loss = 0.12042696\n",
      "Iteration 40, loss = 0.11842215\n",
      "Iteration 41, loss = 0.11236382\n",
      "Iteration 42, loss = 0.14830605\n",
      "Iteration 43, loss = 0.13435571\n",
      "Iteration 44, loss = 0.11137636\n",
      "Iteration 45, loss = 0.10857797\n",
      "Iteration 46, loss = 0.10677339\n",
      "Iteration 47, loss = 0.10724604\n",
      "Iteration 48, loss = 0.12199279\n",
      "Iteration 49, loss = 0.11245123\n",
      "Iteration 50, loss = 0.11919576\n",
      "Iteration 51, loss = 0.10820773\n",
      "Iteration 52, loss = 0.10796961\n",
      "Iteration 53, loss = 0.12149671\n",
      "Iteration 54, loss = 0.19494173\n",
      "Iteration 55, loss = 0.14316914\n",
      "Iteration 56, loss = 0.11010415\n",
      "Iteration 57, loss = 0.10545661\n",
      "Iteration 58, loss = 0.10790149\n",
      "Iteration 59, loss = 0.11059890\n",
      "Iteration 60, loss = 0.11547654\n",
      "Iteration 61, loss = 0.13685909\n",
      "Iteration 62, loss = 0.14395172\n",
      "Iteration 63, loss = 0.11603183\n",
      "Iteration 64, loss = 0.11142021\n",
      "Iteration 65, loss = 0.10098825\n",
      "Iteration 66, loss = 0.09968783\n",
      "Iteration 67, loss = 0.09858034\n",
      "Iteration 68, loss = 0.10219884\n",
      "Iteration 69, loss = 0.10653104\n",
      "Iteration 70, loss = 0.11997252\n",
      "Iteration 71, loss = 0.10342870\n",
      "Iteration 72, loss = 0.10420414\n",
      "Iteration 73, loss = 0.13087939\n",
      "Iteration 74, loss = 0.10496017\n",
      "Iteration 75, loss = 0.10503281\n",
      "Iteration 76, loss = 0.10193261\n",
      "Iteration 77, loss = 0.09885358\n",
      "Iteration 78, loss = 0.10950062\n",
      "Training loss did not improve more than tol=0.000100 for 10 consecutive epochs. Stopping.\n",
      "0.9489864864864865\n",
      "0.8950617283950617\n"
     ]
    }
   ],
   "source": [
    "clf=MLPClassifier(hidden_layer_sizes=[500,100],verbose=True,learning_rate='adaptive')\n",
    "clf.fit(X_train,y_train)\n",
    "print clf.score(X_train,y_train)\n",
    "print clf.score(X_test,y_test)"
   ]
  },
  {
   "cell_type": "code",
   "execution_count": 90,
   "metadata": {
    "ExecuteTime": {
     "end_time": "2018-11-10T17:35:14.834056Z",
     "start_time": "2018-11-10T17:35:14.467776Z"
    }
   },
   "outputs": [
    {
     "name": "stdout",
     "output_type": "stream",
     "text": [
      "0.947972972972973\n",
      "0.8909465020576132\n"
     ]
    }
   ],
   "source": [
    "print clf.score(X_train,y_train)\n",
    "print clf.score(X_test,y_test)"
   ]
  },
  {
   "cell_type": "code",
   "execution_count": 183,
   "metadata": {
    "ExecuteTime": {
     "end_time": "2018-11-11T10:38:02.868641Z",
     "start_time": "2018-11-11T10:36:44.400414Z"
    }
   },
   "outputs": [
    {
     "name": "stdout",
     "output_type": "stream",
     "text": [
      "0.8841216216216217\n",
      "0.8847736625514403\n"
     ]
    }
   ],
   "source": [
    "bdt = AdaBoostClassifier(LogisticRegression(C=1),\n",
    "                         n_estimators=300)\n",
    "\n",
    "bdt.fit(X_train, y_train)\n",
    "print bdt.score(X_train,y_train)\n",
    "print bdt.score(X_test,y_test)"
   ]
  },
  {
   "cell_type": "code",
   "execution_count": 179,
   "metadata": {
    "ExecuteTime": {
     "end_time": "2018-11-11T10:32:23.971055Z",
     "start_time": "2018-11-11T10:32:17.131617Z"
    }
   },
   "outputs": [
    {
     "data": {
      "text/plain": [
       "0.8807432432432433"
      ]
     },
     "execution_count": 179,
     "metadata": {},
     "output_type": "execute_result"
    }
   ],
   "source": []
  },
  {
   "cell_type": "code",
   "execution_count": 180,
   "metadata": {
    "ExecuteTime": {
     "end_time": "2018-11-11T10:32:27.688740Z",
     "start_time": "2018-11-11T10:32:23.978510Z"
    }
   },
   "outputs": [
    {
     "data": {
      "text/plain": [
       "0.8820301783264746"
      ]
     },
     "execution_count": 180,
     "metadata": {},
     "output_type": "execute_result"
    }
   ],
   "source": []
  },
  {
   "cell_type": "code",
   "execution_count": 184,
   "metadata": {
    "ExecuteTime": {
     "end_time": "2018-11-11T10:44:13.486177Z",
     "start_time": "2018-11-11T10:43:15.679512Z"
    }
   },
   "outputs": [
    {
     "name": "stdout",
     "output_type": "stream",
     "text": [
      "0.8429054054054054\n",
      "0.8511659807956105\n"
     ]
    }
   ],
   "source": [
    "bagging = BaggingClassifier(LogisticRegression(C=1),\n",
    "                            max_samples=0.5, max_features=0.5,n_estimators=20).fit(X_train,y_train)\n",
    "print bagging.score(X_train,y_train)\n",
    "print bagging.score(X_test,y_test)"
   ]
  },
  {
   "cell_type": "code",
   "execution_count": 190,
   "metadata": {
    "ExecuteTime": {
     "end_time": "2018-11-11T10:53:59.834498Z",
     "start_time": "2018-11-11T10:53:59.814844Z"
    }
   },
   "outputs": [],
   "source": [
    "\n",
    "def compress_svd(image,k):\n",
    "    \"\"\"\n",
    "    Perform svd decomposition and truncated (using k singular values/vectors) reconstruction\n",
    "    returns\n",
    "    --------\n",
    "      reconstructed matrix reconst_matrix, array of singular values s\n",
    "    \"\"\"\n",
    "    U,s,V = svd(image,full_matrices=False)\n",
    "    reconst_matrix = np.dot(U[:,:k],np.dot(np.diag(s[:k]),V[:k,:]))\n",
    "   \n",
    "    return reconst_matrix,s"
   ]
  },
  {
   "cell_type": "code",
   "execution_count": 194,
   "metadata": {
    "ExecuteTime": {
     "end_time": "2018-11-11T10:56:38.246731Z",
     "start_time": "2018-11-11T10:54:33.734163Z"
    }
   },
   "outputs": [
    {
     "data": {
      "text/plain": [
       "(array([[ 0.00044172, -0.00032226,  0.00051468, ...,  0.        ,\n",
       "          0.        ,  0.        ],\n",
       "        [ 0.00772803, -0.00563797,  0.00900443, ...,  0.        ,\n",
       "          0.        ,  0.        ],\n",
       "        [ 0.00025142, -0.00018343,  0.00029295, ...,  0.        ,\n",
       "          0.        ,  0.        ],\n",
       "        ...,\n",
       "        [ 0.        ,  0.        ,  0.        , ...,  0.        ,\n",
       "          0.        ,  0.        ],\n",
       "        [ 0.        ,  0.        ,  0.        , ...,  0.        ,\n",
       "          0.        ,  0.        ],\n",
       "        [ 0.        ,  0.        ,  0.        , ...,  0.        ,\n",
       "          0.        ,  0.        ]]),\n",
       " array([1.04375562e+02, 9.66389190e+01, 8.65954773e+01, ...,\n",
       "        7.33991748e-16, 7.08551229e-16, 4.09172025e-16]))"
      ]
     },
     "execution_count": 194,
     "metadata": {},
     "output_type": "execute_result"
    }
   ],
   "source": [
    "l_=compress_svd(l,10)"
   ]
  },
  {
   "cell_type": "code",
   "execution_count": null,
   "metadata": {},
   "outputs": [],
   "source": []
  }
 ],
 "metadata": {
  "hide_input": false,
  "kernelspec": {
   "display_name": "Python 2",
   "language": "python",
   "name": "python2"
  },
  "language_info": {
   "codemirror_mode": {
    "name": "ipython",
    "version": 2
   },
   "file_extension": ".py",
   "mimetype": "text/x-python",
   "name": "python",
   "nbconvert_exporter": "python",
   "pygments_lexer": "ipython2",
   "version": "2.7.15"
  }
 },
 "nbformat": 4,
 "nbformat_minor": 2
}
