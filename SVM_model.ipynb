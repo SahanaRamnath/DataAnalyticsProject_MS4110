{
 "cells": [
  {
   "cell_type": "code",
   "execution_count": 5,
   "metadata": {
    "ExecuteTime": {
     "end_time": "2018-11-11T10:54:12.987509Z",
     "start_time": "2018-11-11T10:54:12.940212Z"
    }
   },
   "outputs": [],
   "source": [
    "import numpy as np\n",
    "import pandas as pd\n",
    "import matplotlib.pyplot as plt\n",
    "import scipy.sparse\n",
    "from sklearn.decomposition import TruncatedSVD\n",
    "from sklearn.linear_model import LogisticRegression\n",
    "from sklearn.discriminant_analysis import LinearDiscriminantAnalysis\n",
    "from sklearn.model_selection import train_test_split\n",
    "from sklearn.decomposition import PCA\n",
    "from sklearn.ensemble import AdaBoostClassifier\n",
    "from sklearn.neural_network import MLPClassifier\n",
    "from sklearn.gaussian_process import GaussianProcessClassifier\n",
    "from sklearn.gaussian_process.kernels import RBF\n",
    "from sklearn.ensemble import BaggingClassifier\n",
    "from sklearn.neighbors import KNeighborsClassifier\n",
    "from numpy.linalg import svd\n",
    "%matplotlib inline "
   ]
  },
  {
   "cell_type": "code",
   "execution_count": 6,
   "metadata": {
    "ExecuteTime": {
     "end_time": "2018-11-10T15:43:32.359308Z",
     "start_time": "2018-11-10T15:41:32.447190Z"
    }
   },
   "outputs": [
    {
     "name": "stderr",
     "output_type": "stream",
     "text": [
      "/Users/apple/anaconda3/lib/python3.6/site-packages/dateutil/parser/_parser.py:1204: UnknownTimezoneWarning: tzname CET identified but not understood.  Pass `tzinfos` argument in order to correctly return a timezone-aware datetime.  In a future version, this will raise an exception.\n",
      "  category=UnknownTimezoneWarning)\n",
      "/Users/apple/anaconda3/lib/python3.6/site-packages/dateutil/parser/_parser.py:1204: UnknownTimezoneWarning: tzname CEST identified but not understood.  Pass `tzinfos` argument in order to correctly return a timezone-aware datetime.  In a future version, this will raise an exception.\n",
      "  category=UnknownTimezoneWarning)\n"
     ]
    }
   ],
   "source": [
    "#load data\n",
    "mapping=pd.read_csv('comments_employee_mapping.csv').dropna()\n",
    "likes=pd.read_csv('comments_likeability.csv').dropna()\n",
    "attr=pd.read_csv('employee_attrition.csv').dropna()\n",
    "hap=pd.read_csv('happiness_level.csv').dropna()\n",
    "\n",
    "#read dates as pandas date-type\n",
    "attr['lastParticipationDate']=pd.to_datetime(attr['lastParticipationDate'],infer_datetime_format=True)\n",
    "mapping['commentDate']=pd.to_datetime(mapping['commentDate'],infer_datetime_format=True)\n",
    "hap['voteDate']=pd.to_datetime(hap['voteDate'],infer_datetime_format=True)\n",
    "\n",
    "#merge employee number and company alias into id\n",
    "for d in [mapping,likes,attr,hap]:\n",
    "    d['id']=d['employee'].map(str)+d['companyAlias']\n",
    "\n",
    "#linearize dates\n",
    "attr['ordinal']=[x.toordinal() for x in attr['lastParticipationDate']]\n",
    "mapping['ordinal']=[x.toordinal() for x in mapping['commentDate']]\n",
    "hap['ordinal']=[x.toordinal() for x in hap['voteDate']]"
   ]
  },
  {
   "cell_type": "code",
   "execution_count": 22,
   "metadata": {
    "ExecuteTime": {
     "end_time": "2018-11-10T19:56:29.301743Z",
     "start_time": "2018-11-10T19:56:14.045669Z"
    }
   },
   "outputs": [],
   "source": [
    "l = np.array(np.load('likes_matrix_sparse_arranged.npy', encoding='latin1')[0].todense())\n",
    "# l = np.load('likes_matrix_sparse_arranged.npy')[0]\n",
    "c = np.array(np.load('comment_matrix_sparse_arranged.npy', encoding='latin1')[0].todense())\n",
    "h=np.load('HappinessFeature.npy').tolist()\n",
    "h=np.array([h[e] for e in attr.id])\n",
    "\n",
    "g=np.load('comment_goodness_scores.npy', encoding='latin1').tolist()\n",
    "l_w=np.array(np.load('likes_matrix_sparse_arranged.npy', encoding='latin1')[0].todense())\n",
    "com_dict=np.load('likes_matrix_sparse_arranged.npy', encoding='latin1')[1]\n",
    "for k in g:\n",
    "    try:l_w[:,com_dict[g]]*=g[k]\n",
    "    except:pass\n",
    "l_w=l_w/((l!=0).sum(1) +1 )[:,np.newaxis]\n",
    "l_w=l_w[:,(l!=0).sum(0)>5]\n"
   ]
  },
  {
   "cell_type": "code",
   "execution_count": 23,
   "metadata": {
    "ExecuteTime": {
     "end_time": "2018-11-11T10:28:34.028136Z",
     "start_time": "2018-11-11T10:28:28.880079Z"
    }
   },
   "outputs": [],
   "source": [
    "#data=np.hstack([l,c,pd.get_dummies(attr.companyAlias),(h)[:,np.newaxis],attr.numVotes[:,np.newaxis]])\n",
    "data=np.hstack([l_w,pd.get_dummies(attr.companyAlias),((attr.ordinal-attr.ordinal.mean())/attr.ordinal.std())[:,np.newaxis],(h/(attr.numVotes+1))[:,np.newaxis],attr.numVotes[:,np.newaxis]])\n",
    "\n",
    "X_train, X_test, y_train, y_test = train_test_split(\n",
    "    data,attr.stillExists,stratify=attr.stillExists, test_size=0.33, random_state=42)\n"
   ]
  },
  {
   "cell_type": "code",
   "execution_count": 24,
   "metadata": {
    "ExecuteTime": {
     "end_time": "2018-11-10T20:05:33.042112Z",
     "start_time": "2018-11-10T20:05:04.947293Z"
    }
   },
   "outputs": [],
   "source": [
    "pca = PCA(n_components=1000)\n",
    "X_train_pca = pca.fit_transform(X_train)\n",
    "X_test_pca = pca.transform(X_test)"
   ]
  },
  {
   "cell_type": "code",
   "execution_count": 25,
   "metadata": {
    "ExecuteTime": {
     "end_time": "2018-11-10T18:25:31.802215Z",
     "start_time": "2018-11-10T18:25:27.376395Z"
    }
   },
   "outputs": [],
   "source": [
    "svd = TruncatedSVD(n_components=100)\n",
    "svd.fit(X_train)\n",
    "X_train_svd = svd.transform(X_train)\n",
    "X_test_svd = svd.transform(X_test)\n"
   ]
  },
  {
   "cell_type": "markdown",
   "metadata": {},
   "source": [
    "### Support Vector Machines"
   ]
  },
  {
   "cell_type": "code",
   "execution_count": 52,
   "metadata": {
    "collapsed": true
   },
   "outputs": [],
   "source": [
    "from sklearn.svm import SVC\n",
    "from sklearn.model_selection import GridSearchCV"
   ]
  },
  {
   "cell_type": "code",
   "execution_count": 62,
   "metadata": {},
   "outputs": [],
   "source": [
    "clf_svm = SVC(C=2500, gamma=0.0001).fit(X_train_pca, y_train)"
   ]
  },
  {
   "cell_type": "code",
   "execution_count": 63,
   "metadata": {},
   "outputs": [
    {
     "name": "stdout",
     "output_type": "stream",
     "text": [
      "Test score = 0.8834\n",
      "Training score = 0.8838\n"
     ]
    }
   ],
   "source": [
    "print(\"Test score = {:.4f}\".format(clf_svm.score(X_test_pca, y_test)))\n",
    "print(\"Training score = {:.4}\".format(clf_svm.score(X_train_pca, y_train)))"
   ]
  },
  {
   "cell_type": "markdown",
   "metadata": {},
   "source": [
    "##### Grid search for best parameters"
   ]
  },
  {
   "cell_type": "code",
   "execution_count": 55,
   "metadata": {},
   "outputs": [
    {
     "name": "stdout",
     "output_type": "stream",
     "text": [
      "{'C': 20000, 'gamma': 0.0001}\n"
     ]
    }
   ],
   "source": [
    "param_grid = {\"C\": [100, 1000, 2500, 5000, 10000, 20000], 'gamma': [1e-1, 1e-2, 1e-3, 1e-4, 1e-5, 1e-6]}\n",
    "gs = GridSearchCV(SVC(), param_grid=param_grid, scoring='accuracy', cv=4)\n",
    "gs = gs.fit(X_train_pca, y_train) \n",
    "print(gs.best_params_)"
   ]
  },
  {
   "cell_type": "code",
   "execution_count": 56,
   "metadata": {},
   "outputs": [
    {
     "name": "stdout",
     "output_type": "stream",
     "text": [
      "0.8868312757201646\n"
     ]
    }
   ],
   "source": [
    "clf_best_svm = gs.best_estimator_\n",
    "clf_best_svm.fit(X_train_pca, y_train)\n",
    "print(clf_best_svm.score(X_test_pca, y_test))"
   ]
  },
  {
   "cell_type": "code",
   "execution_count": 59,
   "metadata": {},
   "outputs": [],
   "source": [
    "clf_svm = SVC(C=20000, gamma=0.0001).fit(X_train_pca, y_train)"
   ]
  },
  {
   "cell_type": "code",
   "execution_count": 60,
   "metadata": {},
   "outputs": [
    {
     "name": "stdout",
     "output_type": "stream",
     "text": [
      "Test score = 0.8868\n",
      "Training score = 0.9027\n"
     ]
    }
   ],
   "source": [
    "print(\"Test score = {:.4f}\".format(clf_svm.score(X_test_pca, y_test)))\n",
    "print(\"Training score = {:.4}\".format(clf_svm.score(X_train_pca, y_train)))"
   ]
  },
  {
   "cell_type": "markdown",
   "metadata": {},
   "source": [
    "#### SVM for data that are not reduced"
   ]
  },
  {
   "cell_type": "code",
   "execution_count": 32,
   "metadata": {},
   "outputs": [],
   "source": [
    "clf_svm = SVC(C=1000).fit(X_train, y_train)"
   ]
  },
  {
   "cell_type": "code",
   "execution_count": 33,
   "metadata": {},
   "outputs": [
    {
     "name": "stdout",
     "output_type": "stream",
     "text": [
      "Test score = 0.8793\n",
      "Training score = 0.8828\n"
     ]
    }
   ],
   "source": [
    "print(\"Test score = {:.4f}\".format(clf_svm.score(X_test, y_test)))\n",
    "print(\"Training score = {:.4}\".format(clf_svm.score(X_train, y_train)))"
   ]
  },
  {
   "cell_type": "markdown",
   "metadata": {},
   "source": [
    "#### SVM with SVD reduced data"
   ]
  },
  {
   "cell_type": "code",
   "execution_count": 64,
   "metadata": {},
   "outputs": [],
   "source": [
    "clf_svm_svd = SVC(C=5000, gamma=0.0001).fit(X_train_svd, y_train)"
   ]
  },
  {
   "cell_type": "code",
   "execution_count": 65,
   "metadata": {},
   "outputs": [
    {
     "name": "stdout",
     "output_type": "stream",
     "text": [
      "Test score = 0.8861\n",
      "Training score = 0.8878\n"
     ]
    }
   ],
   "source": [
    "print(\"Test score = {:.4f}\".format(clf_svm_svd.score(X_test_svd, y_test)))\n",
    "print(\"Training score = {:.4}\".format(clf_svm_svd.score(X_train_svd, y_train)))"
   ]
  }
 ],
 "metadata": {
  "hide_input": false,
  "kernelspec": {
   "display_name": "Python 3",
   "language": "python",
   "name": "python3"
  },
  "language_info": {
   "codemirror_mode": {
    "name": "ipython",
    "version": 3
   },
   "file_extension": ".py",
   "mimetype": "text/x-python",
   "name": "python",
   "nbconvert_exporter": "python",
   "pygments_lexer": "ipython3",
   "version": "3.6.5"
  }
 },
 "nbformat": 4,
 "nbformat_minor": 2
}
