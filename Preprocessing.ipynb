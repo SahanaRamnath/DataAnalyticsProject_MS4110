{
 "cells": [
  {
   "cell_type": "code",
   "execution_count": 40,
   "metadata": {
    "ExecuteTime": {
     "end_time": "2018-11-10T03:43:17.109437Z",
     "start_time": "2018-11-10T03:43:16.449885Z"
    }
   },
   "outputs": [],
   "source": [
    "import numpy as np\n",
    "import pandas as pd\n",
    "import matplotlib.pyplot as plt\n",
    "import scipy.sparse\n",
    "%matplotlib inline "
   ]
  },
  {
   "cell_type": "code",
   "execution_count": 4,
   "metadata": {
    "ExecuteTime": {
     "end_time": "2018-11-09T14:44:52.321468Z",
     "start_time": "2018-11-09T14:42:43.870861Z"
    }
   },
   "outputs": [],
   "source": [
    "mapping=pd.read_csv('comments_employee_mapping.csv').dropna()\n",
    "likes=pd.read_csv('comments_likeability.csv').dropna()\n",
    "attr=pd.read_csv('employee_attrition.csv').dropna()\n",
    "hap=pd.read_csv('happiness_level.csv').dropna()\n",
    "\n",
    "attr['lastParticipationDate']=pd.to_datetime(attr['lastParticipationDate'],infer_datetime_format=True)\n",
    "mapping['commentDate']=pd.to_datetime(mapping['commentDate'],infer_datetime_format=True)\n",
    "hap['voteDate']=pd.to_datetime(hap['voteDate'],infer_datetime_format=True)\n",
    "\n",
    "for d in [mapping,likes,attr,hap]:\n",
    "    d['id']=d['employee'].map(str)+d['companyAlias']"
   ]
  },
  {
   "cell_type": "code",
   "execution_count": 121,
   "metadata": {
    "ExecuteTime": {
     "end_time": "2018-11-10T06:07:09.076208Z",
     "start_time": "2018-11-10T06:06:09.774470Z"
    }
   },
   "outputs": [
    {
     "name": "stdout",
     "output_type": "stream",
     "text": [
      "0\n",
      "10000\n",
      "20000\n",
      "30000\n",
      "40000\n",
      "50000\n",
      "60000\n",
      "70000\n",
      "80000\n",
      "90000\n",
      "100000\n",
      "110000\n",
      "120000\n",
      "130000\n",
      "140000\n",
      "150000\n",
      "160000\n",
      "170000\n",
      "180000\n",
      "190000\n",
      "200000\n",
      "210000\n",
      "220000\n",
      "230000\n",
      "240000\n",
      "250000\n",
      "260000\n",
      "270000\n",
      "280000\n",
      "290000\n",
      "300000\n",
      "310000\n",
      "320000\n",
      "0\n",
      "10000\n",
      "20000\n",
      "30000\n",
      "40000\n",
      "50000\n",
      "60000\n",
      "70000\n",
      "80000\n",
      "90000\n",
      "100000\n",
      "110000\n",
      "120000\n",
      "130000\n",
      "140000\n",
      "150000\n",
      "160000\n",
      "170000\n",
      "180000\n",
      "190000\n",
      "200000\n",
      "210000\n",
      "220000\n",
      "230000\n",
      "240000\n",
      "250000\n",
      "260000\n",
      "270000\n",
      "280000\n",
      "290000\n",
      "300000\n",
      "310000\n",
      "320000\n"
     ]
    }
   ],
   "source": [
    "#construct like matrix of size employees x comments\n",
    "#1 denotes like, -1 denotes dislike\n",
    "\n",
    "id_dict,comm_dict={},{}\n",
    "for i in range(len(likes)):\n",
    "    try: id_dict[likes['id'][i]]==0\n",
    "    except: id_dict[likes['id'][i]]=len(id_dict.keys())\n",
    "    try: comm_dict[likes['commentId'][i]]==0\n",
    "    except: comm_dict[likes['commentId'][i]]=len(comm_dict.keys())\n",
    "    if i%10000==0:print i\n",
    "m=np.zeros([len(id_dict.keys()),len(comm_dict.keys())])\n",
    "for i in range(len(likes)):\n",
    "    m[id_dict[likes['id'][i]],comm_dict[likes['commentId'][i]]]= likes['liked'][i]*1 - likes['disliked'][i]*1\n",
    "    if i%10000==0:print i\n",
    "#np.save('like_matrix_sparse.npy',[scipy.sparse.coo_matrix(m),id_dict,comm_dict])"
   ]
  },
  {
   "cell_type": "code",
   "execution_count": 120,
   "metadata": {
    "ExecuteTime": {
     "end_time": "2018-11-10T06:06:01.191091Z",
     "start_time": "2018-11-10T06:05:36.351755Z"
    }
   },
   "outputs": [
    {
     "name": "stdout",
     "output_type": "stream",
     "text": [
      "0\n",
      "10000\n",
      "20000\n",
      "30000\n",
      "40000\n",
      "50000\n",
      "60000\n",
      "70000\n"
     ]
    }
   ],
   "source": [
    "#construct comment matrix of size emp x comments\n",
    "#1 denotes comment was made by that employee\n",
    "\n",
    "id_dict_c,comm_dict_c={},{}\n",
    "for i in range(len(mapping)):\n",
    "    try: id_dict_c[mapping['id'][i]]==0\n",
    "    except: id_dict_c[mapping['id'][i]]=len(id_dict_c.keys())\n",
    "    try: comm_dict_c[mapping['commentId'][i]]==0\n",
    "    except: comm_dict_c[mapping['commentId'][i]]=len(comm_dict_c.keys())\n",
    "    if i%10000==0:print i\n",
    "n=np.zeros([len(id_dict_c),len(comm_dict_c)])\n",
    "for i in range(len(mapping)):\n",
    "    n[id_dict_c[mapping['id'][i]],comm_dict_c[mapping['commentId'][i]]]=1\n",
    "#np.save('comment_matrix_sparse.npy',[scipy.sparse.coo_matrix(n),id_dict_c,comm_dict_c])"
   ]
  },
  {
   "cell_type": "code",
   "execution_count": 256,
   "metadata": {
    "ExecuteTime": {
     "end_time": "2018-11-10T11:33:04.362955Z",
     "start_time": "2018-11-10T11:32:58.108348Z"
    }
   },
   "outputs": [],
   "source": [
    "#ordering the like matrix to align with the attrition dataframe\n",
    "\n",
    "l=[]\n",
    "exc=0\n",
    "for i in range(len(attr)):\n",
    "    try:\n",
    "        l.append(m[id_dict[attr['id'][i]],:])\n",
    "    except:\n",
    "        exc+=1\n",
    "        l.append(np.zeros(len(comm_dict)))\n",
    "l=np.vstack(l)\n",
    "np.save('likes_matrix_sparse_arranged.npy',[scipy.sparse.coo_matrix(l),comm_dict])"
   ]
  },
  {
   "cell_type": "code",
   "execution_count": 257,
   "metadata": {
    "ExecuteTime": {
     "end_time": "2018-11-10T11:33:11.180404Z",
     "start_time": "2018-11-10T11:33:04.372820Z"
    }
   },
   "outputs": [],
   "source": [
    "#ordering the comments matrixx to align with the attrition dataframe\n",
    "\n",
    "c=[]\n",
    "exc_c=0\n",
    "for i in range(len(attr)):\n",
    "    try:\n",
    "        c.append(n[id_dict_c[attr['id'][i]],:])\n",
    "    except:\n",
    "        exc_c+=1\n",
    "        c.append(np.zeros(len(comm_dict_c)))\n",
    "c=np.vstack(c)\n",
    "np.save('comment_matrix_sparse_arranged.npy',[scipy.sparse.coo_matrix(c),comm_dict_c])"
   ]
  }
 ],
 "metadata": {
  "hide_input": false,
  "kernelspec": {
   "display_name": "Python 2",
   "language": "python",
   "name": "python2"
  },
  "language_info": {
   "codemirror_mode": {
    "name": "ipython",
    "version": 2
   },
   "file_extension": ".py",
   "mimetype": "text/x-python",
   "name": "python",
   "nbconvert_exporter": "python",
   "pygments_lexer": "ipython2",
   "version": "2.7.15"
  }
 },
 "nbformat": 4,
 "nbformat_minor": 2
}
