{
 "cells": [
  {
   "cell_type": "code",
   "execution_count": 1,
   "metadata": {},
   "outputs": [],
   "source": [
    "import numpy as np\n",
    "import pandas as pd\n",
    "import matplotlib.pyplot as plt\n",
    "from collections import OrderedDict \n",
    "%matplotlib inline "
   ]
  },
  {
   "cell_type": "markdown",
   "metadata": {},
   "source": [
    "#### Reading dataset"
   ]
  },
  {
   "cell_type": "code",
   "execution_count": 11,
   "metadata": {},
   "outputs": [
    {
     "name": "stderr",
     "output_type": "stream",
     "text": [
      "/Users/apple/anaconda3/lib/python3.6/site-packages/dateutil/parser/_parser.py:1204: UnknownTimezoneWarning: tzname CET identified but not understood.  Pass `tzinfos` argument in order to correctly return a timezone-aware datetime.  In a future version, this will raise an exception.\n",
      "  category=UnknownTimezoneWarning)\n",
      "/Users/apple/anaconda3/lib/python3.6/site-packages/dateutil/parser/_parser.py:1204: UnknownTimezoneWarning: tzname CEST identified but not understood.  Pass `tzinfos` argument in order to correctly return a timezone-aware datetime.  In a future version, this will raise an exception.\n",
      "  category=UnknownTimezoneWarning)\n"
     ]
    }
   ],
   "source": [
    "loc = './'\n",
    "mapping=pd.read_csv(loc + 'comments_employee_mapping.csv').dropna()\n",
    "likes=pd.read_csv(loc + 'comments_likeability.csv').dropna()\n",
    "attr=pd.read_csv(loc + 'employee_attrition.csv').dropna()\n",
    "hap=pd.read_csv(loc + 'happiness_level.csv').dropna()\n",
    "\n",
    "attr['lastParticipationDate']=pd.to_datetime(attr['lastParticipationDate'],infer_datetime_format=True)\n",
    "mapping['commentDate']=pd.to_datetime(mapping['commentDate'],infer_datetime_format=True)\n",
    "hap['voteDate']=pd.to_datetime(hap['voteDate'],infer_datetime_format=True)\n",
    "\n",
    "for d in [mapping,likes,attr,hap]:\n",
    "    d['id']=d['employee'].map(str) + d['companyAlias']"
   ]
  },
  {
   "cell_type": "markdown",
   "metadata": {},
   "source": [
    "#### Mapping employee and comment id to range of integers "
   ]
  },
  {
   "cell_type": "code",
   "execution_count": 12,
   "metadata": {},
   "outputs": [
    {
     "name": "stdout",
     "output_type": "stream",
     "text": [
      "4377 4377\n",
      "38993 38993\n"
     ]
    }
   ],
   "source": [
    "employee_ids = np.unique(attr['id'].values)\n",
    "comment_ids = np.unique(mapping['commentId'].values)\n",
    "\n",
    "init = np.arange(1, len(employee_ids) + 1)\n",
    "map_employee = OrderedDict(list(zip(employee_ids, init)))\n",
    "init = np.arange(1, len(comment_ids) + 1)\n",
    "map_comment = OrderedDict(list(zip(comment_ids, init)))\n",
    "    \n",
    "print(len(map_employee), len(np.unique(employee_ids)))\n",
    "print(len(map_comment), len(np.unique(comment_ids)))"
   ]
  },
  {
   "cell_type": "markdown",
   "metadata": {},
   "source": [
    "#### Building employee - comment reaction matrix"
   ]
  },
  {
   "cell_type": "code",
   "execution_count": 13,
   "metadata": {},
   "outputs": [],
   "source": [
    "d = np.zeros([len(employee_ids),len(comment_ids)])\n",
    "\n",
    "for i in range(len(employee_ids)):\n",
    "    emp_idx = map_employee[likes['id'][i]]\n",
    "    com_idx = map_comment[likes['commentId'][i]]\n",
    "    if likes['liked'][i]==True:\n",
    "        d[emp_idx, com_idx] = 1\n",
    "    else:\n",
    "        d[emp_idx, com_idx] = -1"
   ]
  },
  {
   "cell_type": "code",
   "execution_count": 14,
   "metadata": {},
   "outputs": [
    {
     "name": "stdout",
     "output_type": "stream",
     "text": [
      "3226\n",
      "-1.0\n",
      "1.0\n",
      "0.0\n"
     ]
    }
   ],
   "source": [
    "print(map_employee['51756aec740f1ef260003e307d6'])\n",
    "print(d[map_employee['2456aec740f1ef260003e307d6'], map_comment['58d0179ae010990004e3806d']])\n",
    "\n",
    "print(d[map_employee['15256aec740f1ef260003e307d6'], map_comment['58cfefeee010990004e37f60']])\n",
    "print(d[map_employee['3456aec740f1ef260003e307d6'], map_comment['58d018d7e010990004e38070']])"
   ]
  }
 ],
 "metadata": {
  "kernelspec": {
   "display_name": "Python 3",
   "language": "python",
   "name": "python3"
  },
  "language_info": {
   "codemirror_mode": {
    "name": "ipython",
    "version": 3
   },
   "file_extension": ".py",
   "mimetype": "text/x-python",
   "name": "python",
   "nbconvert_exporter": "python",
   "pygments_lexer": "ipython3",
   "version": "3.6.5"
  }
 },
 "nbformat": 4,
 "nbformat_minor": 2
}
