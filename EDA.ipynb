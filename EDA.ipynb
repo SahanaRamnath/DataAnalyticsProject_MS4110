{
 "cells": [
  {
   "cell_type": "code",
   "execution_count": 3,
   "metadata": {
    "ExecuteTime": {
     "end_time": "2018-10-27T04:27:00.612664Z",
     "start_time": "2018-10-27T04:27:00.515146Z"
    }
   },
   "outputs": [],
   "source": [
    "import numpy as np\n",
    "import pandas as pd\n",
    "import matplotlib.pyplot as plt\n",
    "%matplotlib inline "
   ]
  },
  {
   "cell_type": "code",
   "execution_count": 118,
   "metadata": {
    "ExecuteTime": {
     "end_time": "2018-10-27T07:18:42.882595Z",
     "start_time": "2018-10-27T07:16:41.753034Z"
    }
   },
   "outputs": [],
   "source": [
    "mapping=pd.read_csv('comments_employee_mapping.csv').dropna()\n",
    "likes=pd.read_csv('comments_likeability.csv').dropna()\n",
    "attr=pd.read_csv('employee_attrition.csv').dropna()\n",
    "hap=pd.read_csv('happiness_level.csv').dropna()\n",
    "\n",
    "attr['lastParticipationDate']=pd.to_datetime(attr['lastParticipationDate'],infer_datetime_format=True)\n",
    "mapping['commentDate']=pd.to_datetime(mapping['commentDate'],infer_datetime_format=True)\n",
    "hap['voteDate']=pd.to_datetime(hap['voteDate'],infer_datetime_format=True)"
   ]
  },
  {
   "cell_type": "code",
   "execution_count": 184,
   "metadata": {
    "ExecuteTime": {
     "end_time": "2018-10-27T08:12:12.596974Z",
     "start_time": "2018-10-27T08:12:11.014909Z"
    }
   },
   "outputs": [
    {
     "name": "stderr",
     "output_type": "stream",
     "text": [
      "/Users/vaibhavnayel/anaconda/lib/python2.7/site-packages/ipykernel_launcher.py:2: SettingWithCopyWarning: \n",
      "A value is trying to be set on a copy of a slice from a DataFrame.\n",
      "Try using .loc[row_indexer,col_indexer] = value instead\n",
      "\n",
      "See the caveats in the documentation: http://pandas.pydata.org/pandas-docs/stable/indexing.html#indexing-view-versus-copy\n",
      "  \n"
     ]
    }
   ],
   "source": [
    "attr['ordinal']=[x.toordinal() for x in attr['lastParticipationDate']]\n",
    "mapping['ordinal']=[x.toordinal() for x in mapping['commentDate']]\n",
    "hap['ordinal']=[x.toordinal() for x in hap['voteDate']]"
   ]
  },
  {
   "cell_type": "code",
   "execution_count": 60,
   "metadata": {
    "ExecuteTime": {
     "end_time": "2018-10-27T04:56:25.653239Z",
     "start_time": "2018-10-27T04:56:25.646080Z"
    }
   },
   "outputs": [
    {
     "name": "stdout",
     "output_type": "stream",
     "text": [
      "(77329, 4)\n",
      "(324478, 5)\n",
      "(4418, 5)\n",
      "(221232, 4)\n"
     ]
    }
   ],
   "source": [
    "print mapping.shape\n",
    "print likes.shape\n",
    "print attr.shape\n",
    "print hap.shape"
   ]
  },
  {
   "cell_type": "markdown",
   "metadata": {},
   "source": [
    "## How many companies show up in the data?"
   ]
  },
  {
   "cell_type": "code",
   "execution_count": 34,
   "metadata": {
    "ExecuteTime": {
     "end_time": "2018-10-27T04:33:24.308466Z",
     "start_time": "2018-10-27T04:33:24.263296Z"
    }
   },
   "outputs": [
    {
     "name": "stdout",
     "output_type": "stream",
     "text": [
      "(36,)\n",
      "(34,)\n",
      "(37,)\n",
      "(37,)\n"
     ]
    }
   ],
   "source": [
    "print mapping['companyAlias'].unique().shape\n",
    "print likes['companyAlias'].unique().shape\n",
    "print attr['companyAlias'].unique().shape\n",
    "print hap['companyAlias'].unique().shape"
   ]
  },
  {
   "cell_type": "markdown",
   "metadata": {},
   "source": [
    "Each csv has a different number of companies. might have to exclude this column from analysis"
   ]
  },
  {
   "cell_type": "markdown",
   "metadata": {},
   "source": [
    "## How many unique companies exist overall?"
   ]
  },
  {
   "cell_type": "code",
   "execution_count": 45,
   "metadata": {
    "ExecuteTime": {
     "end_time": "2018-10-27T04:36:58.248911Z",
     "start_time": "2018-10-27T04:36:58.194946Z"
    }
   },
   "outputs": [
    {
     "data": {
      "text/plain": [
       "37"
      ]
     },
     "execution_count": 45,
     "metadata": {},
     "output_type": "execute_result"
    }
   ],
   "source": [
    "len(set(np.hstack([mapping['companyAlias'].unique(),\n",
    "           likes['companyAlias'].unique(),\n",
    "           attr['companyAlias'].unique(),\n",
    "           hap['companyAlias'].unique()])))"
   ]
  },
  {
   "cell_type": "markdown",
   "metadata": {},
   "source": [
    "Since the superset is size 37, attr and hap contain all the companies but there are 3 companies whose employees don't like any comments and 1 company whose employees don't make any comments. So there's a company where people are making comments but nobody is liking them? weird.\n",
    "\n",
    "This means our model will need to handle inputs which have no likes or comments."
   ]
  },
  {
   "cell_type": "code",
   "execution_count": 50,
   "metadata": {
    "ExecuteTime": {
     "end_time": "2018-10-27T04:47:22.099775Z",
     "start_time": "2018-10-27T04:47:22.079960Z"
    }
   },
   "outputs": [],
   "source": [
    "companies=hap['companyAlias'].unique() #list of all companies"
   ]
  },
  {
   "cell_type": "markdown",
   "metadata": {},
   "source": [
    "## How many employees in each company?"
   ]
  },
  {
   "cell_type": "code",
   "execution_count": 78,
   "metadata": {
    "ExecuteTime": {
     "end_time": "2018-10-27T05:33:41.917963Z",
     "start_time": "2018-10-27T05:33:41.571851Z"
    }
   },
   "outputs": [
    {
     "name": "stdout",
     "output_type": "stream",
     "text": [
      "company stats:\n",
      "56aec740f1ef260003e307d6 353\n",
      "54d43612e4b0f6a40755d93e 21\n",
      "5370af43e4b0cff95558c12a 224\n",
      "57bb2f0b3bae540003a8d453 135\n",
      "567011c035dce00003a07fa4 165\n",
      "5809cc9eff2ea40003fda44d 76\n",
      "552e2d00e4b066b42fd122ed 29\n",
      "581b08041a0ef8000308aef6 140\n",
      "574c423856b6300003009953 139\n",
      "57908a2622881200033b34d7 48\n",
      "54e52607e4b01191dc064966 585\n",
      "57dd2d6a4018d9000339ca43 221\n",
      "57d979b72a040a00036a8925 18\n",
      "5641f96713664c000332c8cd 224\n",
      "58b471b384db3200044dd1b9 14\n",
      "56fd2b64f41c670003f643c8 75\n",
      "5474b9cde4b0bf7614b2c66f 10\n",
      "56558cfd07a5de00030908fb 12\n",
      "57c4aa7dbb8b5c000396fd3b 48\n",
      "56e2a905e3b6fe0003e32855 101\n",
      "57fcf18712cdbd000396e310 24\n",
      "57d1eb86a22c9d0003dd1f05 50\n",
      "574c5ade56b6300003009965 293\n",
      "58c6e15f32f72a00046f556c 60\n",
      "53a2dd43e4b01cc02f1e9011 144\n",
      "573f2c4a3517490003ef7710 67\n",
      "58b9adfce75bf80004df6536 21\n",
      "56ae7b02f1ef260003e3072c 20\n",
      "56ab28dc1f385d0003454757 34\n",
      "57ac8b23be7fe30003e656d0 259\n",
      "5742d699f839a10003a407d2 194\n",
      "57d956302a040a00036a8905 171\n",
      "57e518026d641600035db88a 9\n",
      "5809cde3ff2ea40003fda452 44\n",
      "58bf03e5cff4fa0004dd44ef 9\n",
      "58a728a0e75bda00042a3468 379\n",
      "573a0671b5ec330003add34a 2\n",
      "total employees in system:  4418\n",
      "avg employees per company:  119.405405405\n"
     ]
    },
    {
     "data": {
      "image/png": "[encoded data removed]",
      "text/plain": [
       "<matplotlib.figure.Figure at 0x11d6fd9d0>"
      ]
     },
     "metadata": {
      "needs_background": "light"
     },
     "output_type": "display_data"
    }
   ],
   "source": [
    "h=[]\n",
    "print 'company stats:'\n",
    "for company in companies:\n",
    "    h.append((attr['companyAlias']==company).sum())\n",
    "    print company,h[-1]\n",
    "print 'total employees in system: ',attr.shape[0]\n",
    "print 'avg employees per company: ', attr.shape[0]/37.0\n",
    "plt.hist(h,bins=15);\n",
    "plt.xlabel('employees');\n",
    "plt.ylabel('#companies');"
   ]
  },
  {
   "cell_type": "markdown",
   "metadata": {
    "ExecuteTime": {
     "end_time": "2018-10-27T04:51:10.417611Z",
     "start_time": "2018-10-27T04:51:10.407904Z"
    }
   },
   "source": [
    "There are a lot of companies with less than 50 employees, so we should look into techniques that don't require a lot of data per company, or consider merging the companies"
   ]
  },
  {
   "cell_type": "markdown",
   "metadata": {},
   "source": [
    "## what is the split of employees still working and those who left?"
   ]
  },
  {
   "cell_type": "code",
   "execution_count": 103,
   "metadata": {
    "ExecuteTime": {
     "end_time": "2018-10-27T06:37:59.580478Z",
     "start_time": "2018-10-27T06:37:58.679718Z"
    }
   },
   "outputs": [
    {
     "name": "stdout",
     "output_type": "stream",
     "text": [
      " overall still working: 3673, left: 745\n",
      "company: 56aec740f1ef260003e307d6, working: 325, left: 28, attrition rate: 0.0793201133144\n",
      "company: 54d43612e4b0f6a40755d93e, working: 14, left: 7, attrition rate: 0.333333333333\n",
      "company: 5370af43e4b0cff95558c12a, working: 51, left: 173, attrition rate: 0.772321428571\n",
      "company: 57bb2f0b3bae540003a8d453, working: 131, left: 4, attrition rate: 0.0296296296296\n",
      "company: 567011c035dce00003a07fa4, working: 154, left: 11, attrition rate: 0.0666666666667\n",
      "company: 5809cc9eff2ea40003fda44d, working: 76, left: 0, attrition rate: 0.0\n",
      "company: 552e2d00e4b066b42fd122ed, working: 25, left: 4, attrition rate: 0.137931034483\n",
      "company: 581b08041a0ef8000308aef6, working: 133, left: 7, attrition rate: 0.05\n",
      "company: 574c423856b6300003009953, working: 118, left: 21, attrition rate: 0.151079136691\n",
      "company: 57908a2622881200033b34d7, working: 37, left: 11, attrition rate: 0.229166666667\n",
      "company: 54e52607e4b01191dc064966, working: 297, left: 288, attrition rate: 0.492307692308\n",
      "company: 57dd2d6a4018d9000339ca43, working: 196, left: 25, attrition rate: 0.113122171946\n",
      "company: 57d979b72a040a00036a8925, working: 18, left: 0, attrition rate: 0.0\n",
      "company: 5641f96713664c000332c8cd, working: 185, left: 39, attrition rate: 0.174107142857\n",
      "company: 58b471b384db3200044dd1b9, working: 14, left: 0, attrition rate: 0.0\n",
      "company: 56fd2b64f41c670003f643c8, working: 64, left: 11, attrition rate: 0.146666666667\n",
      "company: 5474b9cde4b0bf7614b2c66f, working: 10, left: 0, attrition rate: 0.0\n",
      "company: 56558cfd07a5de00030908fb, working: 12, left: 0, attrition rate: 0.0\n",
      "company: 57c4aa7dbb8b5c000396fd3b, working: 46, left: 2, attrition rate: 0.0416666666667\n",
      "company: 56e2a905e3b6fe0003e32855, working: 101, left: 0, attrition rate: 0.0\n",
      "company: 57fcf18712cdbd000396e310, working: 24, left: 0, attrition rate: 0.0\n",
      "company: 57d1eb86a22c9d0003dd1f05, working: 45, left: 5, attrition rate: 0.1\n",
      "company: 574c5ade56b6300003009965, working: 285, left: 8, attrition rate: 0.0273037542662\n",
      "company: 58c6e15f32f72a00046f556c, working: 60, left: 0, attrition rate: 0.0\n",
      "company: 53a2dd43e4b01cc02f1e9011, working: 132, left: 12, attrition rate: 0.0833333333333\n",
      "company: 573f2c4a3517490003ef7710, working: 66, left: 1, attrition rate: 0.0149253731343\n",
      "company: 58b9adfce75bf80004df6536, working: 21, left: 0, attrition rate: 0.0\n",
      "company: 56ae7b02f1ef260003e3072c, working: 20, left: 0, attrition rate: 0.0\n",
      "company: 56ab28dc1f385d0003454757, working: 32, left: 2, attrition rate: 0.0588235294118\n",
      "company: 57ac8b23be7fe30003e656d0, working: 250, left: 9, attrition rate: 0.034749034749\n",
      "company: 5742d699f839a10003a407d2, working: 180, left: 14, attrition rate: 0.0721649484536\n",
      "company: 57d956302a040a00036a8905, working: 171, left: 0, attrition rate: 0.0\n",
      "company: 57e518026d641600035db88a, working: 9, left: 0, attrition rate: 0.0\n",
      "company: 5809cde3ff2ea40003fda452, working: 44, left: 0, attrition rate: 0.0\n",
      "company: 58bf03e5cff4fa0004dd44ef, working: 9, left: 0, attrition rate: 0.0\n",
      "company: 58a728a0e75bda00042a3468, working: 316, left: 63, attrition rate: 0.166226912929\n",
      "company: 573a0671b5ec330003add34a, working: 2, left: 0, attrition rate: 0.0\n"
     ]
    },
    {
     "data": {
      "image/png": "[encoded data removed]",
      "text/plain": [
       "<matplotlib.figure.Figure at 0x1207ec950>"
      ]
     },
     "metadata": {
      "needs_background": "light"
     },
     "output_type": "display_data"
    },
    {
     "name": "stdout",
     "output_type": "stream",
     "text": [
      "correlation coefficient:  0.47252133218050585\n"
     ]
    },
    {
     "data": {
      "image/png": "[encoded data removed]",
      "text/plain": [
       "<matplotlib.figure.Figure at 0x11c502b10>"
      ]
     },
     "metadata": {
      "needs_background": "light"
     },
     "output_type": "display_data"
    }
   ],
   "source": [
    "print ' overall still working: {}, left: {}'.format((attr['stillExists']==True).sum(),(attr['stillExists']==False).sum())\n",
    "a=[]\n",
    "for company in companies:\n",
    "    working=(attr[attr['companyAlias']==company]['stillExists']==True).sum()\n",
    "    left=(attr[attr['companyAlias']==company]['stillExists']==False).sum()\n",
    "    print 'company: {}, working: {}, left: {}, attrition rate: {}'.format(company,working,left,left/float(working+left))\n",
    "    a.append(left/float(working+left))\n",
    "plt.plot(h, a,'bo')\n",
    "plt.xlabel('#employees')\n",
    "plt.ylabel('attrition rate')\n",
    "plt.show()\n",
    "\n",
    "print 'correlation coefficient: ',np.corrcoef(h,a)[0,1]\n",
    "\n",
    "plt.hist(a,bins=40)\n",
    "plt.xlabel('attrition rate')\n",
    "plt.ylabel('#companies');"
   ]
  },
  {
   "cell_type": "markdown",
   "metadata": {},
   "source": [
    "A correlation coefficient around 0.5 suggests a correlation of company size with attrition rate."
   ]
  },
  {
   "cell_type": "markdown",
   "metadata": {},
   "source": [
    "## Does the last date of participation indicate anything about likelihood of leaving?"
   ]
  },
  {
   "cell_type": "code",
   "execution_count": 209,
   "metadata": {
    "ExecuteTime": {
     "end_time": "2018-10-27T08:25:59.575252Z",
     "start_time": "2018-10-27T08:25:57.775125Z"
    },
    "scrolled": false
   },
   "outputs": [
    {
     "data": {
      "image/png": "[encoded data removed]",
      "text/plain": [
       "<matplotlib.figure.Figure at 0x1a27219ad0>"
      ]
     },
     "metadata": {
      "needs_background": "light"
     },
     "output_type": "display_data"
    },
    {
     "data": {
      "image/png": "[encoded data removed]",
      "text/plain": [
       "<matplotlib.figure.Figure at 0x1a27a95190>"
      ]
     },
     "metadata": {
      "needs_background": "light"
     },
     "output_type": "display_data"
    }
   ],
   "source": [
    "working=attr.groupby('stillExists').get_group(True)['ordinal']\n",
    "left=attr.groupby('stillExists').get_group(False)['ordinal']\n",
    "working.plot(kind='density',bw_method=.5)\n",
    "left.plot(kind='density',bw_method=.5)\n",
    "plt.legend(['working','left'])\n",
    "plt.xlabel('date ordinals')\n",
    "plt.show()\n",
    "\n",
    "plt.hist([working,left],stacked=True,log='y',bins=100)\n",
    "plt.xlabel('date ordinals')\n",
    "plt.ylabel('#employees (log)')\n",
    "plt.legend(['working','left']);"
   ]
  },
  {
   "cell_type": "markdown",
   "metadata": {},
   "source": [
    "Clearly, the further back the last date of participation is, the more likely the employee is to have left."
   ]
  },
  {
   "cell_type": "markdown",
   "metadata": {},
   "source": [
    "## How many votes does each employee make?"
   ]
  },
  {
   "cell_type": "code",
   "execution_count": 226,
   "metadata": {
    "ExecuteTime": {
     "end_time": "2018-10-27T11:35:45.564691Z",
     "start_time": "2018-10-27T11:35:44.243555Z"
    }
   },
   "outputs": [
    {
     "name": "stdout",
     "output_type": "stream",
     "text": [
      "mean: 50.3531009507\n",
      "std dev: 73.1663651824\n"
     ]
    },
    {
     "data": {
      "image/png": "[encoded data removed]",
      "text/plain": [
       "<matplotlib.figure.Figure at 0x1260390d0>"
      ]
     },
     "metadata": {
      "needs_background": "light"
     },
     "output_type": "display_data"
    }
   ],
   "source": [
    "attr.numVotes.hist(bins=100,log='y')\n",
    "plt.xlabel('#votes')\n",
    "plt.ylabel('#employees (log)')\n",
    "print 'mean:',attr.numVotes.mean()\n",
    "print 'std dev:',attr.numVotes.std()"
   ]
  },
  {
   "cell_type": "markdown",
   "metadata": {
    "ExecuteTime": {
     "end_time": "2018-10-27T07:12:34.610924Z",
     "start_time": "2018-10-27T07:12:34.527362Z"
    }
   },
   "source": [
    "most employees have very low vote counts. This will make any time series analysis tricky since there aren't many samples to work with. happiness estimates could be taken as averages over all time instead of windowed averages."
   ]
  },
  {
   "cell_type": "markdown",
   "metadata": {
    "ExecuteTime": {
     "end_time": "2018-10-27T07:14:48.293215Z",
     "start_time": "2018-10-27T07:14:46.502200Z"
    }
   },
   "source": [
    "## Are the average number of votes dependent on the company?"
   ]
  },
  {
   "cell_type": "code",
   "execution_count": 289,
   "metadata": {
    "ExecuteTime": {
     "end_time": "2018-10-27T17:27:58.100624Z",
     "start_time": "2018-10-27T17:27:57.386221Z"
    }
   },
   "outputs": [
    {
     "name": "stdout",
     "output_type": "stream",
     "text": [
      "56aec740f1ef260003e307d6\n",
      "mean: 75.9036827195\n",
      "mean: 81.181312316\n",
      "\n",
      "\n",
      "54d43612e4b0f6a40755d93e\n",
      "mean: 21.1904761905\n",
      "mean: 27.7985953739\n",
      "\n",
      "\n",
      "5370af43e4b0cff95558c12a\n",
      "mean: 28.2857142857\n",
      "mean: 44.7674466472\n",
      "\n",
      "\n",
      "57bb2f0b3bae540003a8d453\n",
      "mean: 47.7777777778\n",
      "mean: 45.6292107714\n",
      "\n",
      "\n",
      "567011c035dce00003a07fa4\n",
      "mean: 21.8303030303\n",
      "mean: 31.9850621084\n",
      "\n",
      "\n",
      "5809cc9eff2ea40003fda44d\n",
      "mean: 19.6973684211\n",
      "mean: 20.2464941735\n",
      "\n",
      "\n",
      "552e2d00e4b066b42fd122ed\n",
      "mean: 12.1034482759\n",
      "mean: 14.7777458836\n",
      "\n",
      "\n",
      "581b08041a0ef8000308aef6\n",
      "mean: 30.0642857143\n",
      "mean: 24.6795901212\n",
      "\n",
      "\n",
      "574c423856b6300003009953\n",
      "mean: 46.4604316547\n",
      "mean: 48.8940389638\n",
      "\n",
      "\n",
      "57908a2622881200033b34d7\n",
      "mean: 15.0416666667\n",
      "mean: 26.7931067138\n",
      "\n",
      "\n",
      "54e52607e4b01191dc064966\n",
      "mean: 87.6222222222\n",
      "mean: 120.147066781\n",
      "\n",
      "\n",
      "57dd2d6a4018d9000339ca43\n",
      "mean: 53.0950226244\n",
      "mean: 53.0834251021\n",
      "\n",
      "\n",
      "57d979b72a040a00036a8925\n",
      "mean: 10.6111111111\n",
      "mean: 12.0398304116\n",
      "\n",
      "\n",
      "5641f96713664c000332c8cd\n",
      "mean: 102.803571429\n",
      "mean: 91.0357283911\n",
      "\n",
      "\n",
      "58b471b384db3200044dd1b9\n",
      "mean: 6.57142857143\n",
      "mean: 3.43543269505\n",
      "\n",
      "\n",
      "56fd2b64f41c670003f643c8\n",
      "mean: 51.0266666667\n",
      "mean: 68.5752641034\n",
      "\n",
      "\n",
      "5474b9cde4b0bf7614b2c66f\n",
      "mean: 4.6\n",
      "mean: 6.53537383101\n",
      "\n",
      "\n",
      "56558cfd07a5de00030908fb\n",
      "mean: 2.33333333333\n",
      "mean: 1.72328087371\n",
      "\n",
      "\n",
      "57c4aa7dbb8b5c000396fd3b\n",
      "mean: 71.25\n",
      "mean: 41.1801956119\n",
      "\n",
      "\n",
      "56e2a905e3b6fe0003e32855\n",
      "mean: 52.9405940594\n",
      "mean: 72.5148014935\n",
      "\n",
      "\n",
      "57fcf18712cdbd000396e310\n",
      "mean: 4.04166666667\n",
      "mean: 2.47560562053\n",
      "\n",
      "\n",
      "57d1eb86a22c9d0003dd1f05\n",
      "mean: 50.42\n",
      "mean: 43.5904361351\n",
      "\n",
      "\n",
      "574c5ade56b6300003009965\n",
      "mean: 57.6313993174\n",
      "mean: 55.6753736394\n",
      "\n",
      "\n",
      "58c6e15f32f72a00046f556c\n",
      "mean: 1.05\n",
      "mean: 0.219784177651\n",
      "\n",
      "\n",
      "53a2dd43e4b01cc02f1e9011\n",
      "mean: 32.5\n",
      "mean: 45.3000872195\n",
      "\n",
      "\n",
      "573f2c4a3517490003ef7710\n",
      "mean: 11.4029850746\n",
      "mean: 5.77890547856\n",
      "\n",
      "\n",
      "58b9adfce75bf80004df6536\n",
      "mean: 7.71428571429\n",
      "mean: 3.92610312069\n",
      "\n",
      "\n",
      "56ae7b02f1ef260003e3072c\n",
      "mean: 2.1\n",
      "mean: 3.40123816464\n",
      "\n",
      "\n",
      "56ab28dc1f385d0003454757\n",
      "mean: 4.5\n",
      "mean: 4.47382962518\n",
      "\n",
      "\n",
      "57ac8b23be7fe30003e656d0\n",
      "mean: 22.5752895753\n",
      "mean: 25.1977667471\n",
      "\n",
      "\n",
      "5742d699f839a10003a407d2\n",
      "mean: 128.804123711\n",
      "mean: 87.3616317266\n",
      "\n",
      "\n",
      "57d956302a040a00036a8905\n",
      "mean: 32.1461988304\n",
      "mean: 31.0164420371\n",
      "\n",
      "\n",
      "57e518026d641600035db88a\n",
      "mean: 5.88888888889\n",
      "mean: 3.58623913189\n",
      "\n",
      "\n",
      "5809cde3ff2ea40003fda452\n",
      "mean: 27.2727272727\n",
      "mean: 21.7141724552\n",
      "\n",
      "\n",
      "58bf03e5cff4fa0004dd44ef\n",
      "mean: 1.66666666667\n",
      "mean: 1.32287565553\n",
      "\n",
      "\n",
      "58a728a0e75bda00042a3468\n",
      "mean: 9.6253298153\n",
      "mean: 6.51469580756\n",
      "\n",
      "\n",
      "573a0671b5ec330003add34a\n",
      "mean: 4.0\n",
      "mean: 4.24264068712\n",
      "\n",
      "\n"
     ]
    },
    {
     "data": {
      "image/png": "[encoded data removed]",
      "text/plain": [
       "<matplotlib.figure.Figure at 0x1a3124d810>"
      ]
     },
     "metadata": {
      "needs_background": "light"
     },
     "output_type": "display_data"
    },
    {
     "name": "stdout",
     "output_type": "stream",
     "text": [
      "corr coeff: 0.5765644245292082\n"
     ]
    },
    {
     "data": {
      "image/png": "[encoded data removed]",
      "text/plain": [
       "<matplotlib.figure.Figure at 0x1a312679d0>"
      ]
     },
     "metadata": {
      "needs_background": "light"
     },
     "output_type": "display_data"
    }
   ],
   "source": [
    "means=[]\n",
    "for company in companies:\n",
    "    print company\n",
    "    print 'mean:',attr.groupby('companyAlias').get_group(company).numVotes.mean()\n",
    "    print 'mean:',attr.groupby('companyAlias').get_group(company).numVotes.std()\n",
    "    print '\\n'\n",
    "    means.append(attr.groupby('companyAlias').get_group(company).numVotes.mean())\n",
    "plt.hist(means,bins=15)\n",
    "plt.xlabel('mean #votes per employee')\n",
    "plt.ylabel('#companies')\n",
    "plt.show()\n",
    "\n",
    "print 'corr coeff:',np.corrcoef(means,h)[0,1]\n",
    "plt.plot(h,means,'bo')\n",
    "plt.xlabel('company size')\n",
    "plt.ylabel('average votes');"
   ]
  },
  {
   "cell_type": "markdown",
   "metadata": {},
   "source": [
    "some companies witness lower participation than other companies. this could be because employees in bigger companies are more likely to socialise or because some companies are very new and the numbers haven't had a chance to become higher."
   ]
  },
  {
   "cell_type": "markdown",
   "metadata": {
    "ExecuteTime": {
     "end_time": "2018-10-27T11:27:20.645264Z",
     "start_time": "2018-10-27T11:27:20.558358Z"
    }
   },
   "source": [
    "## Does the number of votes cast indicate anything about likelihood of leaving?"
   ]
  },
  {
   "cell_type": "code",
   "execution_count": 245,
   "metadata": {
    "ExecuteTime": {
     "end_time": "2018-10-27T12:11:57.863125Z",
     "start_time": "2018-10-27T12:11:56.381329Z"
    }
   },
   "outputs": [
    {
     "data": {
      "image/png": "[encoded data removed]",
      "text/plain": [
       "<matplotlib.figure.Figure at 0x1a27d02950>"
      ]
     },
     "metadata": {
      "needs_background": "light"
     },
     "output_type": "display_data"
    }
   ],
   "source": [
    "working=attr.groupby('stillExists').get_group(True).numVotes\n",
    "left=attr.groupby('stillExists').get_group(False).numVotes\n",
    "plt.hist([working, left],stacked=True,bins=100,log='y')\n",
    "plt.xlabel('numVotes')\n",
    "plt.ylabel('#employees (log)')\n",
    "plt.legend(['working','left']);\n",
    "\n"
   ]
  },
  {
   "cell_type": "code",
   "execution_count": 238,
   "metadata": {
    "ExecuteTime": {
     "end_time": "2018-10-27T11:54:04.397443Z",
     "start_time": "2018-10-27T11:54:04.012267Z"
    }
   },
   "outputs": [
    {
     "data": {
      "image/png": "[encoded data removed]",
      "text/plain": [
       "<matplotlib.figure.Figure at 0x1a282a4d50>"
      ]
     },
     "metadata": {
      "needs_background": "light"
     },
     "output_type": "display_data"
    }
   ],
   "source": [
    "working.plot.kde()\n",
    "left.plot.kde()\n",
    "plt.xlabel('numVotes')\n",
    "plt.xlim([0,600])\n",
    "plt.legend(['working','left']);"
   ]
  },
  {
   "cell_type": "markdown",
   "metadata": {},
   "source": [
    "The number of votes by an employee doesn't seem to indicate anything about likelihood of leaving ie unhappy employees are just as likely to vote as happy ones."
   ]
  },
  {
   "cell_type": "markdown",
   "metadata": {},
   "source": [
    "## Comments per employee"
   ]
  },
  {
   "cell_type": "code",
   "execution_count": 259,
   "metadata": {
    "ExecuteTime": {
     "end_time": "2018-10-27T12:20:33.406235Z",
     "start_time": "2018-10-27T12:20:32.914375Z"
    }
   },
   "outputs": [
    {
     "name": "stdout",
     "output_type": "stream",
     "text": [
      "56aec740f1ef260003e307d6\n",
      "numComments: 10187, numEmployees: 270, comments per employee: 37.7296296296\n",
      "54d43612e4b0f6a40755d93e\n",
      "numComments: 351, numEmployees: 15, comments per employee: 23.4\n",
      "5370af43e4b0cff95558c12a\n",
      "numComments: 1683, numEmployees: 60, comments per employee: 28.05\n",
      "57bb2f0b3bae540003a8d453\n",
      "numComments: 2854, numEmployees: 106, comments per employee: 26.9245283019\n",
      "567011c035dce00003a07fa4\n",
      "numComments: 1939, numEmployees: 113, comments per employee: 17.1592920354\n",
      "5809cc9eff2ea40003fda44d\n",
      "numComments: 974, numEmployees: 61, comments per employee: 15.9672131148\n",
      "552e2d00e4b066b42fd122ed\n",
      "numComments: 250, numEmployees: 18, comments per employee: 13.8888888889\n",
      "581b08041a0ef8000308aef6\n",
      "numComments: 2746, numEmployees: 107, comments per employee: 25.6635514019\n",
      "574c423856b6300003009953\n",
      "numComments: 2833, numEmployees: 88, comments per employee: 32.1931818182\n",
      "57908a2622881200033b34d7\n",
      "numComments: 947, numEmployees: 34, comments per employee: 27.8529411765\n",
      "54e52607e4b01191dc064966\n",
      "numComments: 12702, numEmployees: 278, comments per employee: 45.690647482\n",
      "57dd2d6a4018d9000339ca43\n",
      "numComments: 2312, numEmployees: 138, comments per employee: 16.7536231884\n",
      "57d979b72a040a00036a8925\n",
      "numComments: 198, numEmployees: 13, comments per employee: 15.2307692308\n",
      "5641f96713664c000332c8cd\n",
      "numComments: 5632, numEmployees: 172, comments per employee: 32.7441860465\n",
      "58b471b384db3200044dd1b9\n",
      "numComments: 42, numEmployees: 7, comments per employee: 6.0\n",
      "56fd2b64f41c670003f643c8\n",
      "numComments: 1417, numEmployees: 47, comments per employee: 30.1489361702\n",
      "5474b9cde4b0bf7614b2c66f\n",
      "numComments: 74, numEmployees: 9, comments per employee: 8.22222222222\n",
      "56558cfd07a5de00030908fb\n",
      "numComments: 14, numEmployees: 6, comments per employee: 2.33333333333\n",
      "57c4aa7dbb8b5c000396fd3b\n",
      "numComments: 1613, numEmployees: 42, comments per employee: 38.4047619048\n",
      "56e2a905e3b6fe0003e32855\n",
      "numComments: 2992, numEmployees: 78, comments per employee: 38.358974359\n",
      "57fcf18712cdbd000396e310\n",
      "numComments: 132, numEmployees: 16, comments per employee: 8.25\n",
      "57d1eb86a22c9d0003dd1f05\n",
      "numComments: 1387, numEmployees: 41, comments per employee: 33.8292682927\n",
      "574c5ade56b6300003009965\n",
      "numComments: 4868, numEmployees: 208, comments per employee: 23.4038461538\n",
      "58c6e15f32f72a00046f556c\n",
      "numComments: 132, numEmployees: 44, comments per employee: 3.0\n",
      "53a2dd43e4b01cc02f1e9011\n",
      "numComments: 4080, numEmployees: 114, comments per employee: 35.7894736842\n",
      "573f2c4a3517490003ef7710\n",
      "numComments: 302, numEmployees: 37, comments per employee: 8.16216216216\n",
      "58b9adfce75bf80004df6536\n",
      "numComments: 140, numEmployees: 17, comments per employee: 8.23529411765\n",
      "56ae7b02f1ef260003e3072c\n",
      "numComments: 16, numEmployees: 8, comments per employee: 2.0\n",
      "56ab28dc1f385d0003454757\n",
      "numComments: 68, numEmployees: 17, comments per employee: 4.0\n",
      "57ac8b23be7fe30003e656d0\n",
      "numComments: 3034, numEmployees: 173, comments per employee: 17.5375722543\n",
      "5742d699f839a10003a407d2\n",
      "numComments: 5312, numEmployees: 152, comments per employee: 34.9473684211\n",
      "57d956302a040a00036a8905\n",
      "numComments: 2500, numEmployees: 124, comments per employee: 20.1612903226\n",
      "57e518026d641600035db88a\n",
      "numComments: 24, numEmployees: 5, comments per employee: 4.8\n",
      "5809cde3ff2ea40003fda452\n",
      "numComments: 1480, numEmployees: 37, comments per employee: 40.0\n",
      "58bf03e5cff4fa0004dd44ef\n",
      "numComments: 14, numEmployees: 5, comments per employee: 2.8\n",
      "58a728a0e75bda00042a3468\n",
      "numComments: 2079, numEmployees: 221, comments per employee: 9.407239819\n",
      "corr coeff: 0.509382222318985\n"
     ]
    },
    {
     "data": {
      "image/png": "[encoded data removed]",
      "text/plain": [
       "<matplotlib.figure.Figure at 0x1a28345210>"
      ]
     },
     "metadata": {
      "needs_background": "light"
     },
     "output_type": "display_data"
    }
   ],
   "source": [
    "x,y=[],[]\n",
    "for company in companies:\n",
    "    try:\n",
    "        df=mapping.groupby('companyAlias').get_group(company)\n",
    "        employees=df.employee.unique()\n",
    "        print company\n",
    "        print 'numComments: {}, numEmployees: {}, comments per employee: {}'.format(df.shape[0],employees.shape[0],df.shape[0]/float(employees.shape[0]))\n",
    "        x.append(employees.shape[0])\n",
    "        y.append(df.shape[0]/float(employees.shape[0]))\n",
    "    except:pass\n",
    "plt.plot(x,y,'bo')\n",
    "plt.xlabel('numEmployees')\n",
    "plt.ylabel('comments per employee');\n",
    "print 'corr coeff:',np.corrcoef(x,y)[1,0]"
   ]
  },
  {
   "cell_type": "markdown",
   "metadata": {},
   "source": [
    "There is a clear correlation between company size and comments made per employee"
   ]
  },
  {
   "cell_type": "code",
   "execution_count": 265,
   "metadata": {
    "ExecuteTime": {
     "end_time": "2018-10-27T16:39:06.291238Z",
     "start_time": "2018-10-27T16:39:04.923653Z"
    }
   },
   "outputs": [
    {
     "data": {
      "image/png": "[encoded data removed]",
      "text/plain": [
       "<matplotlib.figure.Figure at 0x1a276b54d0>"
      ]
     },
     "metadata": {
      "needs_background": "light"
     },
     "output_type": "display_data"
    }
   ],
   "source": [
    "mapping.ordinal.plot.kde(bw_method=0.5)\n",
    "plt.xlabel('comment date ordinal');"
   ]
  },
  {
   "cell_type": "markdown",
   "metadata": {},
   "source": [
    "This seems to mirror the last participation date density. number of comments probably just mirrors the number of workers in the system at any time."
   ]
  },
  {
   "cell_type": "markdown",
   "metadata": {},
   "source": [
    "## How does happiness vary with company?"
   ]
  },
  {
   "cell_type": "code",
   "execution_count": 298,
   "metadata": {
    "ExecuteTime": {
     "end_time": "2018-10-27T18:01:50.724186Z",
     "start_time": "2018-10-27T18:01:48.978501Z"
    }
   },
   "outputs": [
    {
     "name": "stdout",
     "output_type": "stream",
     "text": [
      "overall vote average: 2.86152997758\n",
      "56aec740f1ef260003e307d6 average: 3.23647032441\n",
      "54d43612e4b0f6a40755d93e average: 2.9185520362\n",
      "5370af43e4b0cff95558c12a average: 3.03770283169\n",
      "57bb2f0b3bae540003a8d453 average: 2.85581395349\n",
      "567011c035dce00003a07fa4 average: 2.64353137146\n",
      "5809cc9eff2ea40003fda44d average: 2.69071476286\n",
      "552e2d00e4b066b42fd122ed average: 2.88034188034\n",
      "581b08041a0ef8000308aef6 average: 2.4874879692\n",
      "574c423856b6300003009953 average: 3.36844562004\n",
      "57908a2622881200033b34d7 average: 3.50969529086\n",
      "54e52607e4b01191dc064966 average: 2.59181045583\n",
      "57dd2d6a4018d9000339ca43 average: 3.00264189535\n",
      "57d979b72a040a00036a8925 average: 3.41884816754\n",
      "5641f96713664c000332c8cd average: 2.80141597533\n",
      "58b471b384db3200044dd1b9 average: 2.6847826087\n",
      "56fd2b64f41c670003f643c8 average: 2.64332375229\n",
      "5474b9cde4b0bf7614b2c66f average: 3.45652173913\n",
      "56558cfd07a5de00030908fb average: 2.96428571429\n",
      "57c4aa7dbb8b5c000396fd3b average: 3.47531607465\n",
      "56e2a905e3b6fe0003e32855 average: 2.84383766598\n",
      "57fcf18712cdbd000396e310 average: 3.24742268041\n",
      "57d1eb86a22c9d0003dd1f05 average: 2.7702092737\n",
      "574c5ade56b6300003009965 average: 2.63318725571\n",
      "58c6e15f32f72a00046f556c average: 2.77777777778\n",
      "53a2dd43e4b01cc02f1e9011 average: 2.99743589744\n",
      "573f2c4a3517490003ef7710 average: 3.09031413613\n",
      "58b9adfce75bf80004df6536 average: 3.14814814815\n",
      "56ae7b02f1ef260003e3072c average: 3.33333333333\n",
      "56ab28dc1f385d0003454757 average: 3.03267973856\n",
      "57ac8b23be7fe30003e656d0 average: 3.08927655208\n",
      "5742d699f839a10003a407d2 average: 2.87852381335\n",
      "57d956302a040a00036a8905 average: 3.0287429507\n",
      "57e518026d641600035db88a average: 3.39622641509\n",
      "5809cde3ff2ea40003fda452 average: 3.385\n",
      "58bf03e5cff4fa0004dd44ef average: 3.66666666667\n",
      "58a728a0e75bda00042a3468 average: 2.76370614035\n",
      "573a0671b5ec330003add34a average: 3.625\n",
      "corr coeff:  -0.4302256906883859\n"
     ]
    },
    {
     "data": {
      "image/png": "[encoded data removed]",
      "text/plain": [
       "<matplotlib.figure.Figure at 0x1a324c9390>"
      ]
     },
     "metadata": {
      "needs_background": "light"
     },
     "output_type": "display_data"
    }
   ],
   "source": [
    "print 'overall vote average: {}'.format(hap.vote.mean())\n",
    "x,y=[],[]\n",
    "for company in companies:\n",
    "    try: \n",
    "        print '{} average: {}'.format(company,hap[hap.companyAlias == company].vote.mean())\n",
    "        x.append((attr.companyAlias==company).sum())\n",
    "        y.append(hap[hap.companyAlias == company].vote.mean())\n",
    "    except:pass\n",
    "print 'corr coeff: ',np.corrcoef(x,y)[0,1]\n",
    "plt.plot(x,y,'bo')\n",
    "plt.xlabel('company size')\n",
    "plt.ylabel('average happiness');"
   ]
  },
  {
   "cell_type": "markdown",
   "metadata": {},
   "source": [
    "The plot shows a distinct negative correlation of company size with employee happiness. "
   ]
  },
  {
   "cell_type": "markdown",
   "metadata": {},
   "source": [
    "## How much time between votes?"
   ]
  },
  {
   "cell_type": "code",
   "execution_count": 349,
   "metadata": {
    "ExecuteTime": {
     "end_time": "2018-10-28T04:58:47.653779Z",
     "start_time": "2018-10-28T04:58:42.982909Z"
    }
   },
   "outputs": [
    {
     "data": {
      "image/png": "[encoded data removed]",
      "text/plain": [
       "<matplotlib.figure.Figure at 0x1a283031d0>"
      ]
     },
     "metadata": {
      "needs_background": "light"
     },
     "output_type": "display_data"
    },
    {
     "name": "stdout",
     "output_type": "stream",
     "text": [
      "corr coeff:  0.06228331496742335\n",
      "number of employees who voted only once:  458\n"
     ]
    },
    {
     "data": {
      "image/png": "[encoded data removed]",
      "text/plain": [
       "<matplotlib.figure.Figure at 0x1a2873e410>"
      ]
     },
     "metadata": {
      "needs_background": "light"
     },
     "output_type": "display_data"
    }
   ],
   "source": [
    "cmps=hap.groupby('companyAlias')\n",
    "x,y,y2=[],[],[]\n",
    "temp=0\n",
    "for company in companies:\n",
    "    try:\n",
    "        a=[]\n",
    "        cp=cmps.get_group(company)\n",
    "        employees=cp.employee.unique()\n",
    "        times=cp.groupby('employee')\n",
    "        for emp in employees:\n",
    "            v=times.get_group(emp).ordinal\n",
    "            if v.shape[0]>1:\n",
    "                a.append(v.diff(1).dropna().mean())\n",
    "            else: temp+=1\n",
    "        y2.append(np.std(a))\n",
    "        y.append(np.mean(a))\n",
    "        x.append((attr.companyAlias==company).sum())\n",
    "    except:pass\n",
    "plt.plot(x,y,'bo')\n",
    "plt.xlabel('company size')\n",
    "plt.ylabel('average time between votes')\n",
    "plt.show()\n",
    "\n",
    "print 'corr coeff: ',np.corrcoef(x,y)[0,1]\n",
    "print 'number of employees who voted only once: ',temp\n",
    "\n",
    "plt.plot(x,y2,'bo')\n",
    "plt.xlabel('company size')\n",
    "plt.ylabel('std of time between votes')\n",
    "plt.show()\n",
    "\n"
   ]
  },
  {
   "cell_type": "markdown",
   "metadata": {
    "ExecuteTime": {
     "end_time": "2018-10-28T05:00:25.034543Z",
     "start_time": "2018-10-28T05:00:25.022373Z"
    }
   },
   "source": [
    "a low correlation suggests that company size does not seem to affect the average time or variance of times between votes."
   ]
  },
  {
   "cell_type": "code",
   "execution_count": null,
   "metadata": {},
   "outputs": [],
   "source": []
  }
 ],
 "metadata": {
  "hide_input": false,
  "kernelspec": {
   "display_name": "Python 2",
   "language": "python",
   "name": "python2"
  },
  "language_info": {
   "codemirror_mode": {
    "name": "ipython",
    "version": 2
   },
   "file_extension": ".py",
   "mimetype": "text/x-python",
   "name": "python",
   "nbconvert_exporter": "python",
   "pygments_lexer": "ipython2",
   "version": "2.7.15"
  }
 },
 "nbformat": 4,
 "nbformat_minor": 2
}
